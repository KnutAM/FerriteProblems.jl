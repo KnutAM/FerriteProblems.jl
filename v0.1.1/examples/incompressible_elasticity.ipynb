{
 "cells": [
  {
   "cell_type": "markdown",
   "source": [
    "# Incompressible Elasticity\n",
    "This example is the adoption of\n",
    "[`Ferrite.jl`s example](https://ferrite-fem.github.io/Ferrite.jl/stable/examples/incompressible_elasticity/)\n",
    "To adapt, we make a few changes, specifically\n",
    "that we don't use BlockArrays"
   ],
   "metadata": {}
  },
  {
   "outputs": [],
   "cell_type": "code",
   "source": [
    "using Ferrite\n",
    "using FerriteNeumann, FerriteAssembly, FerriteProblems\n",
    "using FESolvers\n",
    "import FerriteProblems as FP\n",
    "import FerriteAssembly as FA"
   ],
   "metadata": {},
   "execution_count": 1
  },
  {
   "cell_type": "markdown",
   "source": [
    "## Problem setup\n",
    "First we generate a simple grid, specifying the 4 corners of Cooks membrane."
   ],
   "metadata": {}
  },
  {
   "outputs": [],
   "cell_type": "code",
   "source": [
    "function create_cook_grid(nx, ny)\n",
    "    corners = [Vec{2}((0.0,   0.0)),\n",
    "               Vec{2}((48.0, 44.0)),\n",
    "               Vec{2}((48.0, 60.0)),\n",
    "               Vec{2}((0.0,  44.0))]\n",
    "    grid = generate_grid(Triangle, (nx, ny), corners);\n",
    "    # facesets for boundary conditions\n",
    "    addfaceset!(grid, \"clamped\", x -> norm(x[1]) ≈ 0.0);\n",
    "    addfaceset!(grid, \"traction\", x -> norm(x[1]) ≈ 48.0);\n",
    "    return grid\n",
    "end;"
   ],
   "metadata": {},
   "execution_count": 2
  },
  {
   "cell_type": "markdown",
   "source": [
    "Next we define a function to set up our cell- and facevalues."
   ],
   "metadata": {}
  },
  {
   "outputs": [],
   "cell_type": "code",
   "source": [
    "function create_values(interpolation_u, interpolation_p)\n",
    "    # quadrature rules\n",
    "    qr      = QuadratureRule{2,RefTetrahedron}(3)\n",
    "    face_qr = QuadratureRule{1,RefTetrahedron}(3)\n",
    "\n",
    "    # geometric interpolation\n",
    "    interpolation_geom = Lagrange{2,RefTetrahedron,1}()\n",
    "\n",
    "    # cell and facevalues for u\n",
    "    cellvalues_u = CellVectorValues(qr, interpolation_u, interpolation_geom)\n",
    "    facevalues_u = FaceVectorValues(face_qr, interpolation_u, interpolation_geom)\n",
    "\n",
    "    # cellvalues for p\n",
    "    cellvalues_p = CellScalarValues(qr, interpolation_p, interpolation_geom)\n",
    "\n",
    "    return cellvalues_u, cellvalues_p, facevalues_u\n",
    "end;"
   ],
   "metadata": {},
   "execution_count": 3
  },
  {
   "cell_type": "markdown",
   "source": [
    "We create a DofHandler, with two fields, `:u` and `:p`,\n",
    "with possibly different interpolations"
   ],
   "metadata": {}
  },
  {
   "outputs": [],
   "cell_type": "code",
   "source": [
    "function create_dofhandler(grid, ipu, ipp)\n",
    "    dh = DofHandler(grid)\n",
    "    push!(dh, :u, 2, ipu) # displacement\n",
    "    push!(dh, :p, 1, ipp) # pressure\n",
    "    close!(dh)\n",
    "    return dh\n",
    "end;"
   ],
   "metadata": {},
   "execution_count": 4
  },
  {
   "cell_type": "markdown",
   "source": [
    "We also need to add Dirichlet boundary conditions on the `\"clamped\"` faceset.\n",
    "We specify a homogeneous Dirichlet bc on the displacement field, `:u`."
   ],
   "metadata": {}
  },
  {
   "outputs": [],
   "cell_type": "code",
   "source": [
    "function create_bc(dh)\n",
    "    dbc = ConstraintHandler(dh)\n",
    "    add!(dbc, Dirichlet(:u, getfaceset(dh.grid, \"clamped\"), (x,t) -> zero(Vec{2}), [1,2]))\n",
    "    close!(dbc)\n",
    "    t = 0.0\n",
    "    update!(dbc, t)\n",
    "    return dbc\n",
    "end;"
   ],
   "metadata": {},
   "execution_count": 5
  },
  {
   "cell_type": "markdown",
   "source": [
    "The material is linear elastic, which is here specified by the shear and bulk moduli"
   ],
   "metadata": {}
  },
  {
   "outputs": [
    {
     "output_type": "execute_result",
     "data": {
      "text/plain": "Main.var\"##318\".LinearElasticity"
     },
     "metadata": {},
     "execution_count": 6
    }
   ],
   "cell_type": "code",
   "source": [
    "struct LinearElasticity{T}\n",
    "    G::T\n",
    "    K::T\n",
    "end\n",
    "function LinearElasticity(;Emod, ν)\n",
    "    Gmod = Emod / 2(1 + ν)\n",
    "    Kmod = Emod * ν / ((1+ν) * (1-2ν))\n",
    "    return LinearElasticity(Gmod, Kmod)\n",
    "end"
   ],
   "metadata": {},
   "execution_count": 6
  },
  {
   "cell_type": "markdown",
   "source": [
    "Define a cache for the material, as used in the original example"
   ],
   "metadata": {}
  },
  {
   "outputs": [],
   "cell_type": "code",
   "source": [
    "function FP.allocate_material_cache(::LinearElasticity, cv::NamedTuple)\n",
    "    cellvalues_u = cv[:u]\n",
    "    return collect([symmetric(shape_gradient(cellvalues_u, 1, i)) for i in 1:getnbasefunctions(cellvalues_u)])\n",
    "end\n",
    "\n",
    "\n",
    "function create_definition(ν, ip_u, ip_p)\n",
    "    grid = create_cook_grid(50, 50)\n",
    "    dh = create_dofhandler(grid, ip_u, ip_p)\n",
    "    ch = create_bc(dh)\n",
    "    cv_u, cv_p, fv = create_values(ip_u, ip_p)\n",
    "    cv = (u=cv_u, p=cv_p)   # Create NamedTuple\n",
    "\n",
    "    nh = NeumannHandler(dh)\n",
    "    add!(nh, Neumann(:u, fv, getfaceset(grid, \"traction\"), (x,t,n)->Vec{2}((0.0, 1/16))))\n",
    "\n",
    "    m = LinearElasticity(;Emod=1.0, ν=ν)\n",
    "\n",
    "    # Create and return the `FEDefinition`\n",
    "    return FEDefinition(;dh=dh, ch=ch, nh=nh, cv=cv, m=m)\n",
    "end;"
   ],
   "metadata": {},
   "execution_count": 7
  },
  {
   "cell_type": "markdown",
   "source": [
    "## Physics (element routine)\n",
    "We define the element according to `FerriteAssembly`, and without any Neumann contributions.\n",
    "We restrict this element to only work with `FESolvers.LinearProblemSolver` by not including\n",
    "the internal forces in residual.\n",
    "Since the problem results in a symmetric matrix we choose to only assemble the lower part,\n",
    "and then symmetrize it after the loop over the quadrature points."
   ],
   "metadata": {}
  },
  {
   "outputs": [],
   "cell_type": "code",
   "source": [
    "function FerriteAssembly.element_routine!(\n",
    "    Ke, re, state, ue, mp::LinearElasticity, cv::NamedTuple, dh_fh, Δt, buffer\n",
    "    )\n",
    "    cellvalues_u = cv[:u]\n",
    "    cellvalues_p = cv[:p]\n",
    "    n_basefuncs_u = getnbasefunctions(cellvalues_u)\n",
    "    n_basefuncs_p = getnbasefunctions(cellvalues_p)\n",
    "    # Create views of the different fields\n",
    "    udofs = dof_range(dh_fh, :u)\n",
    "    pdofs = dof_range(dh_fh, :p)\n",
    "    Ke_uu = @view Ke[udofs,udofs]\n",
    "    Ke_pu = @view Ke[pdofs,udofs]\n",
    "    Ke_pp = @view Ke[pdofs,pdofs]\n",
    "\n",
    "    # Extract cached gradients\n",
    "    ∇Nu_sym_dev = FA.get_cache(buffer)\n",
    "\n",
    "    # We only assemble lower half triangle of the stiffness matrix and then symmetrize it.\n",
    "    for q_point in 1:getnquadpoints(cellvalues_u)\n",
    "        for i in 1:n_basefuncs_u\n",
    "            ∇Nu_sym_dev[i] = dev(symmetric(shape_gradient(cellvalues_u, q_point, i)))\n",
    "        end\n",
    "        dΩ = getdetJdV(cellvalues_u, q_point)\n",
    "        for i in 1:n_basefuncs_u\n",
    "            for j in 1:i\n",
    "                Ke_uu[i,j] += 2 * mp.G * ∇Nu_sym_dev[i] ⊡ ∇Nu_sym_dev[j] * dΩ\n",
    "            end\n",
    "        end\n",
    "\n",
    "        for i in 1:n_basefuncs_p\n",
    "            δNp = shape_value(cellvalues_p, q_point, i)\n",
    "            for j in 1:n_basefuncs_u\n",
    "                divδNu = shape_divergence(cellvalues_u, q_point, j)\n",
    "                Ke_pu[i,j] += -δNp * divδNu * dΩ\n",
    "            end\n",
    "            for j in 1:i\n",
    "                Np = shape_value(cellvalues_p, q_point, j)\n",
    "                Ke_pp[i,j] += - 1/mp.K * δNp * Np * dΩ\n",
    "            end\n",
    "        end\n",
    "    end\n",
    "    symmetrize_lower!(Ke)\n",
    "end\n",
    "\n",
    "function symmetrize_lower!(K)\n",
    "    for i in 1:size(K,1)\n",
    "        for j in i+1:size(K,1)\n",
    "            K[i,j] = K[j,i]\n",
    "        end\n",
    "    end\n",
    "end;"
   ],
   "metadata": {},
   "execution_count": 8
  },
  {
   "cell_type": "markdown",
   "source": [
    "## Postprocessing"
   ],
   "metadata": {}
  },
  {
   "outputs": [],
   "cell_type": "code",
   "source": [
    "struct PostProcessing\n",
    "    vtk_file::String\n",
    "end\n",
    "\n",
    "function FESolvers.postprocess!(post::PostProcessing, p, step, solver)\n",
    "    dh = FP.getdh(p)\n",
    "    vtk_grid(post.vtk_file, dh) do vtkfile\n",
    "        vtk_point_data(vtkfile, dh, FP.getunknowns(p))\n",
    "    end\n",
    "end;"
   ],
   "metadata": {},
   "execution_count": 9
  },
  {
   "cell_type": "markdown",
   "source": [
    "## Solving the problem"
   ],
   "metadata": {}
  },
  {
   "outputs": [],
   "cell_type": "code",
   "source": [
    "function build_problem(ν, ip_u, ip_p)\n",
    "    def = create_definition(ν, ip_u, ip_p)\n",
    "    ip_u_string = isa(ip_u, Lagrange{2,RefTetrahedron,1}) ? \"linear\" : \"quadratic\"\n",
    "    post = PostProcessing(\"cook_$(ip_u_string)_linear\")\n",
    "    return FerriteProblem(def, post)\n",
    "end\n",
    "\n",
    "solver = QuasiStaticSolver(;nlsolver=LinearProblemSolver(), timestepper=FixedTimeStepper([0.0,1.0]))\n",
    "ν = 0.4999999\n",
    "linear    = Lagrange{2,RefTetrahedron,1}()\n",
    "quadratic = Lagrange{2,RefTetrahedron,2}()\n",
    "p1 = build_problem(ν, linear, linear)\n",
    "p2 = build_problem(ν, quadratic, linear)\n",
    "solve_problem!(p1, solver)\n",
    "solve_problem!(p2, solver)"
   ],
   "metadata": {},
   "execution_count": 10
  },
  {
   "cell_type": "markdown",
   "source": [
    "---\n",
    "\n",
    "*This notebook was generated using [Literate.jl](https://github.com/fredrikekre/Literate.jl).*"
   ],
   "metadata": {}
  }
 ],
 "nbformat_minor": 3,
 "metadata": {
  "language_info": {
   "file_extension": ".jl",
   "mimetype": "application/julia",
   "name": "julia",
   "version": "1.8.3"
  },
  "kernelspec": {
   "name": "julia-1.8",
   "display_name": "Julia 1.8.3",
   "language": "julia"
  }
 },
 "nbformat": 4
}
