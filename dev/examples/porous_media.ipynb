{
 "cells": [
  {
   "cell_type": "markdown",
   "source": [
    "# Porous media\n",
    "\n",
    "Porous media is a two-phase material, consisting of solid parts and a liquid occupying\n",
    "the pores inbetween.\n",
    "Using the porous media theory, we can model such a material without explicitly\n",
    "resolving the microstructure, but by considering the interactions between the\n",
    "solid and liquid. In this example, we will additionally consider larger linear\n",
    "elastic solid aggregates that are impermeable. Hence, there is no liquids in\n",
    "these particles and the only unknown variable is the displacement field `:u`.\n",
    "In the porous media, denoted the matrix, we have both the displacement field,\n",
    "`:u`, as well as the liquid pressure, `:p`, as unknown. The computational domain\n",
    "is shown below\n",
    "\n",
    "```@raw html\n",
    "<table><tbody><tr height=\"300px\"><td style=\"text-align: left;\">\n",
    "```\n",
    "![Computational domain](porous_media/domain.svg)\n",
    "```@raw html\n",
    "</td><td>\n",
    "```\n",
    "![Pressure evolution](porous_media/pressure.gif)\n",
    "```@raw html\n",
    "</td><td>\n",
    "```\n",
    "![Pressure legend](porous_media/pressure_legend.png)\n",
    "```@raw html\n",
    "</td><td>\n",
    "```\n",
    "![u2 evolution](porous_media/u2.gif)\n",
    "```@raw html\n",
    "</td><td>\n",
    "```\n",
    "![u2 legend](porous_media/u2_legend.png)\n",
    "```@raw html\n",
    "</tr><tr><td>\n",
    "```\n",
    "Computational domain\n",
    "```@raw html\n",
    "</td><td>\n",
    "```\n",
    "Pressure evolution\n",
    "```@raw html\n",
    "</td><td></td><td>\n",
    "```\n",
    "Vertical displacements¨\n",
    "```@raw html\n",
    "</td><td>\n",
    "```\n",
    "```@raw html\n",
    "</td></tr></tbody></table>\n",
    "```\n",
    "\n",
    "\n",
    "## Theory of porous media\n",
    "The strong forms are given as\n",
    "$$\n",
    "\\begin{aligned}\n",
    "\\boldsymbol{\\sigma}(\\boldsymbol{\\epsilon}, p) \\cdot \\boldsymbol{\\nabla} &= \\boldsymbol{0} \\\\\n",
    "\\dot{\\Phi}(\\boldsymbol{\\epsilon}, p) + \\boldsymbol{w}(p) \\cdot \\boldsymbol{\\nabla} &= 0\n",
    "\\end{aligned}\n",
    "$$\n",
    "where\n",
    "$\\boldsymbol{\\epsilon} = \\left[\\boldsymbol{u}\\otimes\\boldsymbol{\\nabla}\\right]^\\mathrm{sym}$\n",
    "The constitutive relationships are\n",
    "$$\n",
    "\\begin{aligned}\n",
    "\\boldsymbol{\\sigma} &= \\boldsymbol{\\mathsf{E}}:\\boldsymbol{\\epsilon} - \\alpha p \\boldsymbol{I} \\\\\n",
    "\\boldsymbol{w} &= - k \\boldsymbol{\\nabla} p \\\\\n",
    "\\Phi &= \\phi + \\alpha \\mathrm{tr}(\\boldsymbol{\\epsilon}) + \\beta p\n",
    "\\end{aligned}\n",
    "$$\n",
    "with\n",
    "$\\boldsymbol{\\mathsf{E}}=2G \\boldsymbol{\\mathsf{I}}^\\mathrm{dev} + 3K \\boldsymbol{I}\\otimes\\boldsymbol{I}$.\n",
    "The material parameters are then the\n",
    "shear modulus, $G$,\n",
    "bulk modulus, $K$,\n",
    "permeability, $k$,\n",
    "Biot's coefficient, $\\alpha$, and\n",
    "liquid compressibility, $\\beta$.\n",
    "The porosity, $\\phi$, doesn't enter into the equations\n",
    "(A different porosity leads to different skeleton stiffness and permeability).\n",
    "\n",
    "\n",
    "The variational (weak) form can then be derived for the variations $\\boldsymbol{\\delta u}$\n",
    "and $\\delta p$ as\n",
    "$$\n",
    "\\begin{aligned}\n",
    "\\int_\\Omega \\left[\\left[\\boldsymbol{\\delta u}\\otimes\\boldsymbol{\\nabla}\\right]^\\mathrm{sym}:\n",
    "\\boldsymbol{\\mathsf{E}}:\\boldsymbol{\\epsilon} - \\boldsymbol{\\delta u} \\cdot \\boldsymbol{\\nabla} \\alpha p\\right] \\mathrm{d}\\Omega\n",
    "&= \\int_\\Gamma \\boldsymbol{\\delta u} \\cdot \\boldsymbol{t} \\mathrm{d} \\Gamma \\\\\n",
    "\\int_\\Omega \\left[\\delta p \\left[\\alpha \\dot{\\boldsymbol{u}} \\cdot \\boldsymbol{\\nabla} + \\beta \\dot{p}\\right] +\n",
    "\\boldsymbol{\\nabla}(\\delta p) \\cdot [k \\boldsymbol{\\nabla}]\\right] \\mathrm{d}\\Omega\n",
    "&= \\int_\\Gamma \\delta p w_\\mathrm{n} \\mathrm{d} \\Gamma\n",
    "\\end{aligned}\n",
    "$$\n",
    "where $\\boldsymbol{t}=\\boldsymbol{n}\\cdot\\boldsymbol{\\sigma}$ is the traction and\n",
    "$w_\\mathrm{n} = \\boldsymbol{n}\\cdot\\boldsymbol{w}$ is the normal flux.\n",
    "\n",
    "### Finite element form\n",
    "Discretizing in space using finite elements, we obtain the vector equation\n",
    "$r_i = f_i^\\mathrm{int} - f_{i}^\\mathrm{ext}$ where $f^\\mathrm{ext}$ are the external\n",
    "\"forces\", and $f_i^\\mathrm{int}$ are the internal \"forces\". We split this into the\n",
    "displacement part $r_i^\\mathrm{u} = f_i^\\mathrm{int,u} - f_{i}^\\mathrm{ext,u}$ and\n",
    "pressure part $r_i^\\mathrm{p} = f_i^\\mathrm{int,p} - f_{i}^\\mathrm{ext,p}$\n",
    "to obtain the discretized equation system\n",
    "$$\n",
    "\\begin{aligned}\n",
    "f_i^\\mathrm{int,u} &= \\int_\\Omega [\\boldsymbol{\\delta N}^\\mathrm{u}_i\\otimes\\boldsymbol{\\nabla}]^\\mathrm{sym} : \\boldsymbol{\\mathsf{E}} : [\\boldsymbol{u}\\otimes\\boldsymbol{\\nabla}]^\\mathrm{sym} \\\n",
    "- [\\boldsymbol{\\delta N}^\\mathrm{u}_i \\cdot \\boldsymbol{\\nabla}] \\alpha p \\mathrm{d}\\Omega\n",
    "&= \\int_\\Gamma \\boldsymbol{\\delta N}^\\mathrm{u}_i \\cdot \\boldsymbol{t} \\mathrm{d} \\Gamma \\\\\n",
    "f_i^\\mathrm{int,p} &= \\int_\\Omega \\delta N_i^\\mathrm{p} [\\alpha [\\dot{\\boldsymbol{u}}\\cdot\\boldsymbol{\\nabla}]  + \\beta\\dot{p}] + \\boldsymbol{\\nabla}(\\delta N_i^\\mathrm{p}) \\cdot [k \\boldsymbol{\\nabla}(p)] \\mathrm{d}\\Omega\n",
    "&= \\int_\\Gamma \\delta N_i^\\mathrm{p} w_\\mathrm{n} \\mathrm{d} \\Gamma\n",
    "\\end{aligned}\n",
    "$$\n",
    "Approximating the time-derivatives, $\\dot{\\boldsymbol{u}}\\approx \\left[\\boldsymbol{u}-{}^n\\boldsymbol{u}\\right]/\\Delta t$\n",
    "and $\\dot{p}\\approx \\left[p-{}^np\\right]/\\Delta t$, we can implement the finite element equations in the residual form\n",
    "$r_i(\\boldsymbol{a}(t), t) = 0$ where the vector $\\boldsymbol{a}$ contains all unknown displacements $u_i$ and pressures $p_i$.\n",
    "We use automatic differentiation to get the jacobian."
   ],
   "metadata": {}
  },
  {
   "cell_type": "markdown",
   "source": [
    "## Implementation\n",
    "We now solve the problem step by step. The full program with fewer comments is found in\n",
    "\n",
    "Required packages"
   ],
   "metadata": {}
  },
  {
   "outputs": [],
   "cell_type": "code",
   "source": [
    "using Ferrite, FerriteMeshParser, Tensors\n",
    "using FerriteAssembly, FerriteProblems, FerriteNeumann, FESolvers\n",
    "using MaterialModelsBase\n",
    "import FerriteProblems as FP\n",
    "import MaterialModelsBase as MMB"
   ],
   "metadata": {},
   "execution_count": 1
  },
  {
   "cell_type": "markdown",
   "source": [
    "## Physics\n",
    "### Elastic material\n",
    "For the elastic material, we just define the material following\n",
    "the `MaterialModelsBase.jl` interface:"
   ],
   "metadata": {}
  },
  {
   "outputs": [],
   "cell_type": "code",
   "source": [
    "struct Elastic{T} <: AbstractMaterial\n",
    "    G::T\n",
    "    K::T\n",
    "    E4::SymmetricTensor{4,2,T,9}\n",
    "end\n",
    "function Elastic(;E=2.e3, ν=0.3)\n",
    "    G = E / 2(1 + ν)\n",
    "    K = E / 3(1 - 2ν)\n",
    "    I2 = one(SymmetricTensor{2,2})\n",
    "    I4vol = I2⊗I2\n",
    "    I4dev = minorsymmetric(otimesu(I2,I2)) - I4vol / 3\n",
    "    E4 = 2G*I4dev + K*I4vol\n",
    "    return Elastic(G, K, E4)\n",
    "end;\n",
    "\n",
    "function MMB.material_response(m::Elastic, ϵ, args...; kwargs...)\n",
    "    σ = m.E4 ⊡ ϵ\n",
    "    return σ, m.E4, NoMaterialState()\n",
    "end;"
   ],
   "metadata": {},
   "execution_count": 2
  },
  {
   "cell_type": "markdown",
   "source": [
    "### Poroelastic material\n",
    "For the poroelastic material, we reuse the elastic part from above,\n",
    "but add additionally required properties"
   ],
   "metadata": {}
  },
  {
   "outputs": [],
   "cell_type": "code",
   "source": [
    "struct PoroElastic{E<:Elastic,T}\n",
    "    elastic::E\n",
    "    k::T    # [mm^4/Ns] Permeability\n",
    "    α::T    # [-] Biot's coefficient\n",
    "    β::T    # [1/MPa] Liquid bulk modulus\n",
    "end\n",
    "function PoroElastic(;elastic=Elastic(), k=0.05, α=1.0, β=1/2e3)\n",
    "    return PoroElastic(elastic, k, α, β)\n",
    "end;"
   ],
   "metadata": {},
   "execution_count": 3
  },
  {
   "cell_type": "markdown",
   "source": [
    "And then we also have to define the specific element routine\n",
    "which we do by defining the residual and using autodiff to calculate the tangent"
   ],
   "metadata": {}
  },
  {
   "outputs": [],
   "cell_type": "code",
   "source": [
    "function FerriteAssembly.element_residual!(re, state, ae, material::PoroElastic, cv::NamedTuple, dh_fh, Δt, buffer)\n",
    "    # Setup cellvalues and give easier names\n",
    "    cv_u = cv[:u]\n",
    "    cv_p = cv[:p]\n",
    "    num_u = getnbasefunctions(cv_u)\n",
    "    num_p = getnbasefunctions(cv_p)\n",
    "\n",
    "    # Assign views to the matrix and vector parts\n",
    "    ae_old = FerriteAssembly.get_aeold(buffer)\n",
    "    udofs = dof_range(dh_fh, :u)\n",
    "    pdofs = dof_range(dh_fh, :p)\n",
    "    ru = @view re[udofs]\n",
    "    rp = @view re[pdofs]\n",
    "    ue = @view ae[udofs]\n",
    "    pe = @view ae[pdofs]\n",
    "    ue_old = @view ae_old[udofs]\n",
    "    pe_old = @view ae_old[pdofs]\n",
    "\n",
    "    # Assemble stiffness and force vectors\n",
    "    for q_point in 1:getnquadpoints(cv_u)\n",
    "        # Calculate variables in the current quadrature point\n",
    "        dΩ = getdetJdV(cv_u, q_point)\n",
    "        ϵ = function_symmetric_gradient(cv_u, q_point, ue)\n",
    "        ϵ_old = function_symmetric_gradient(cv_u, q_point, ue_old)\n",
    "        p = function_value(cv_p, q_point, pe)\n",
    "        p_old = function_value(cv_p, q_point, pe_old)\n",
    "        ∇p = function_gradient(cv_p, q_point, pe)\n",
    "        pdot = (p-p_old)/Δt\n",
    "        div_udot = (tr(ϵ)-tr(ϵ_old))/Δt\n",
    "        σeff = material.elastic.E4 ⊡ ϵ\n",
    "\n",
    "        # Assemble residual contributions\n",
    "        for iᵤ in 1:num_u\n",
    "            ∇δNu = shape_symmetric_gradient(cv_u, q_point, iᵤ)\n",
    "            div_δNu = shape_divergence(cv_u, q_point, iᵤ)\n",
    "            ru[iᵤ] += (∇δNu ⊡ σeff - div_δNu*material.α*p)*dΩ\n",
    "        end\n",
    "        for iₚ in 1:num_p\n",
    "            δNp = shape_value(cv_p, q_point, iₚ)\n",
    "            ∇δNp = shape_gradient(cv_p, q_point, iₚ)\n",
    "            rp[iₚ] += (δNp*(material.α*div_udot + material.β*pdot) + (∇δNp ⋅ ∇p)*material.k) * dΩ\n",
    "        end\n",
    "    end\n",
    "end"
   ],
   "metadata": {},
   "execution_count": 4
  },
  {
   "cell_type": "markdown",
   "source": [
    "## Problem definition\n",
    "### Mesh import\n",
    "In this example, we import the mesh from the Abaqus input file,\n",
    "[`porous_media_0p75.inp`](porous_media/porous_media_0p75.inp) using `FerriteMeshParser`'s\n",
    "`get_ferrite_grid` function.\n",
    "(A finer mesh, [`porous_media_0p25.inp`](porous_media/porous_media_0p25.inp), is also available)\n",
    "We then create one cellset for each phase (solid and porous)\n",
    "for each element type. These 4 sets will later be used in their own `FieldHandler`"
   ],
   "metadata": {}
  },
  {
   "outputs": [
    {
     "output_type": "execute_result",
     "data": {
      "text/plain": "get_grid (generic function with 1 method)"
     },
     "metadata": {},
     "execution_count": 5
    }
   ],
   "cell_type": "code",
   "source": [
    "function get_grid()\n",
    "    # Import grid from abaqus mesh\n",
    "    grid = get_ferrite_grid(joinpath(@__DIR__, \"porous_media\", \"porous_media_0p75.inp\"))\n",
    "\n",
    "    # Create cellsets for each fieldhandler\n",
    "    addcellset!(grid, \"solid3\", intersect(getcellset(grid, \"solid\"), getcellset(grid, \"CPS3\")))\n",
    "    addcellset!(grid, \"solid4\", intersect(getcellset(grid, \"solid\"), getcellset(grid, \"CPS4R\")))\n",
    "    addcellset!(grid, \"porous3\", intersect(getcellset(grid, \"porous\"), getcellset(grid, \"CPS3\")))\n",
    "    addcellset!(grid, \"porous4\", intersect(getcellset(grid, \"porous\"), getcellset(grid, \"CPS4R\")))\n",
    "\n",
    "    # Create faceset for the sides and top\n",
    "    addfaceset!(grid, \"sides\", x->(first(x) < eps() || first(x) ≈ 5.0))\n",
    "    addfaceset!(grid, \"top\", x->(last(x) ≈ 10.0))\n",
    "    return grid\n",
    "end"
   ],
   "metadata": {},
   "execution_count": 5
  },
  {
   "cell_type": "markdown",
   "source": [
    "### Problem setup\n",
    "Define the finite element interpolation, integration, and boundary conditions."
   ],
   "metadata": {}
  },
  {
   "outputs": [
    {
     "output_type": "execute_result",
     "data": {
      "text/plain": "create_definition (generic function with 1 method)"
     },
     "metadata": {},
     "execution_count": 6
    }
   ],
   "cell_type": "code",
   "source": [
    "function create_definition(;t_rise=0.1, p_max=100.0)\n",
    "\n",
    "    grid = get_grid()\n",
    "\n",
    "    # Setup the interpolation and integration rules\n",
    "    dim=Ferrite.getdim(grid)\n",
    "    ip3_lin = Lagrange{dim, RefTetrahedron, 1}()\n",
    "    ip4_lin = Lagrange{dim, RefCube, 1}()\n",
    "    ip3_quad = Lagrange{dim, RefTetrahedron, 2}()\n",
    "    ip4_quad = Lagrange{dim, RefCube, 2}()\n",
    "    qr3 = QuadratureRule{dim, RefTetrahedron}(1)\n",
    "    qr4 = QuadratureRule{dim, RefCube}(2)\n",
    "\n",
    "    # Setup the MixedDofHandler\n",
    "    dh = MixedDofHandler(grid)\n",
    "    push!(dh, FieldHandler([Field(:u, ip3_lin, dim)], getcellset(grid,\"solid3\")))\n",
    "    push!(dh, FieldHandler([Field(:u, ip4_lin, dim)], getcellset(grid,\"solid4\")))\n",
    "    push!(dh, FieldHandler([Field(:u, ip3_quad, dim), Field(:p, ip3_lin, 1)], getcellset(grid,\"porous3\")))\n",
    "    push!(dh, FieldHandler([Field(:u, ip4_quad, dim), Field(:p, ip4_lin, 1)], getcellset(grid,\"porous4\")))\n",
    "    close!(dh)\n",
    "\n",
    "    # Setup cellvalues with the same order as the FieldHandlers in the dh\n",
    "    # - Linear displacement elements in the solid domain\n",
    "    # - Taylor hood (quadratic displacement, linear pressure) and linear geometry in porous domain\n",
    "    cv = ( CellVectorValues(qr3, ip3_lin),\n",
    "           CellVectorValues(qr4, ip4_lin),\n",
    "           (u=CellVectorValues(qr3, ip3_quad, ip3_lin), p=CellScalarValues(qr3, ip3_lin)),\n",
    "           (u=CellVectorValues(qr4, ip4_quad, ip4_lin), p=CellScalarValues(qr4, ip4_lin)) )\n",
    "\n",
    "    # Add boundary conditions\n",
    "    # Use `Ferrite.jl` PR427 (temporarily included in FerriteProblems.jl)\n",
    "    # to make Dirichlet conditions easier and more general\n",
    "    ch = ConstraintHandler(dh);\n",
    "    # Fix bottom in y and sides in x\n",
    "    add!(ch, Dirichlet(:u, getfaceset(grid, \"bottom\"), (x, t) -> zero(Vec{1}), [2]))\n",
    "    add!(ch, Dirichlet(:u, getfaceset(grid, \"sides\"), (x,t) -> zero(Vec{1}), [1]))\n",
    "    # Zero pressure on top surface\n",
    "    add!(ch, Dirichlet(:p, getfaceset(grid, \"top\"), (x,t) -> 0.0))\n",
    "    close!(ch)\n",
    "\n",
    "    # Add Neumann boundary conditions - normal traction on top\n",
    "    nh = NeumannHandler(dh);\n",
    "    add!(nh, Neumann(:u, 2, getfaceset(grid, \"top\"), (x,t,n) -> -n*clamp(t/t_rise,0,1)*p_max))\n",
    "\n",
    "    # We then need one material per fieldhandler:\n",
    "    materials = (Elastic(), Elastic(), PoroElastic(), PoroElastic())\n",
    "\n",
    "    return FEDefinition(;dh=dh, ch=ch, nh=nh, cv=cv, m=materials, cc=FP.RelativeResidualElementScaling())\n",
    "end"
   ],
   "metadata": {},
   "execution_count": 6
  },
  {
   "cell_type": "markdown",
   "source": [
    "## Postprocessing"
   ],
   "metadata": {}
  },
  {
   "outputs": [],
   "cell_type": "code",
   "source": [
    "struct PostProcess{PVD}\n",
    "    pvd::PVD\n",
    "    filestem::String\n",
    "end\n",
    "function PostProcess(filestem=\"porous_media\")\n",
    "    pvd = paraview_collection(\"$filestem.pvd\")\n",
    "    return PostProcess(pvd, filestem)\n",
    "end\n",
    "\n",
    "function FESolvers.postprocess!(post::PostProcess, p, step, solver)\n",
    "    vtk_grid(\"$(post.filestem)-$step\", FP.getdh(p)) do vtk\n",
    "        vtk_point_data(vtk, FP.getdh(p), FP.getunknowns(p))\n",
    "        vtk_save(vtk)\n",
    "        post.pvd[step] = vtk\n",
    "    end\n",
    "end\n",
    "\n",
    "FP.close_postprocessing(post::PostProcess, args...) = vtk_save(post.pvd)"
   ],
   "metadata": {},
   "execution_count": 7
  },
  {
   "cell_type": "markdown",
   "source": [
    "## Solving\n",
    "Without the real PR427 there will be a lot of warnings. when creating the definition.\n",
    "As a temporary solution, we just disable warnings during definition creation"
   ],
   "metadata": {}
  },
  {
   "outputs": [],
   "cell_type": "code",
   "source": [
    "using Logging\n",
    "Logging.disable_logging(Logging.Warn)\n",
    "problem = FerriteProblem(create_definition(), PostProcess())\n",
    "Logging.disable_logging(Logging.LogLevel(-1))\n",
    "solver = QuasiStaticSolver(;nlsolver=LinearProblemSolver(), timestepper=FixedTimeStepper(map(x->x^2, range(0, 1, 41))))\n",
    "solve_problem!(problem, solver)"
   ],
   "metadata": {},
   "execution_count": 8
  },
  {
   "cell_type": "markdown",
   "source": [
    "---\n",
    "\n",
    "*This notebook was generated using [Literate.jl](https://github.com/fredrikekre/Literate.jl).*"
   ],
   "metadata": {}
  }
 ],
 "nbformat_minor": 3,
 "metadata": {
  "language_info": {
   "file_extension": ".jl",
   "mimetype": "application/julia",
   "name": "julia",
   "version": "1.8.5"
  },
  "kernelspec": {
   "name": "julia-1.8",
   "display_name": "Julia 1.8.5",
   "language": "julia"
  }
 },
 "nbformat": 4
}
