{
 "cells": [
  {
   "cell_type": "markdown",
   "source": [
    "# Linear Time Dependent Problem\n",
    "This example is the same example as\n",
    "[`FESolvers.jl`'s transient heat flow](https://knutam.github.io/FESolvers.jl/dev/examples/transient_heat/)\n",
    "which was taken from\n",
    "[`Ferrite.jl`'s transient heat flow](https://ferrite-fem.github.io/Ferrite.jl/stable/examples/transient_heat_equation/).\n",
    "Please see the theoretical derivations in those examples, with the specific formulation used here in the former.\n",
    "\n",
    "## Commented Program\n",
    "\n",
    "Now we solve the problem by using FerriteProblems.\n",
    "\n",
    "First we load required packages"
   ],
   "metadata": {}
  },
  {
   "outputs": [],
   "cell_type": "code",
   "source": [
    "using Ferrite, FerriteProblems, FerriteAssembly, FESolvers\n",
    "import FerriteProblems as FP"
   ],
   "metadata": {},
   "execution_count": 1
  },
  {
   "cell_type": "markdown",
   "source": [
    "## Physics\n",
    "First, we need to define the material behavior."
   ],
   "metadata": {}
  },
  {
   "outputs": [],
   "cell_type": "code",
   "source": [
    "Base.@kwdef struct FicksLaw{T}\n",
    "    k::T=1.0e-3    # Thermal conductivity\n",
    "    f::T=5.0e-1    # Constant heat source\n",
    "end"
   ],
   "metadata": {},
   "execution_count": 2
  },
  {
   "cell_type": "markdown",
   "source": [
    "where we could have defined the heat source using the bodyload type\n",
    "available via the cellbuffer, but it is not necessary for a constant\n",
    "heat source."
   ],
   "metadata": {}
  },
  {
   "cell_type": "markdown",
   "source": [
    "We then define element routine following `FerriteAssembly`"
   ],
   "metadata": {}
  },
  {
   "outputs": [],
   "cell_type": "code",
   "source": [
    "function FerriteAssembly.element_routine!(\n",
    "    Ke, re, state, ue, m::FicksLaw, cellvalues, dh_fh, Δt, buffer\n",
    "    )\n",
    "    ue_old = buffer.ae_old  # Extract old values from the CellBuffer (TODO: Perhaps good to have get-functions for this)\n",
    "    n_basefuncs = getnbasefunctions(cellvalues)\n",
    "    for q_point in 1:getnquadpoints(cellvalues)\n",
    "        dΩ = getdetJdV(cellvalues, q_point)\n",
    "        u = function_value(cellvalues, q_point, ue)\n",
    "        uold = function_value(cellvalues, q_point, ue_old)\n",
    "        ∇u = function_gradient(cellvalues, q_point, ue)\n",
    "        for i in 1:n_basefuncs\n",
    "            δN = shape_value(cellvalues, q_point, i)\n",
    "            ∇δN = shape_gradient(cellvalues, q_point, i)\n",
    "            re[i] += (δN * (u - uold - Δt * m.f) + Δt * m.k * ∇δN ⋅ ∇u) * dΩ\n",
    "            for j in 1:n_basefuncs\n",
    "                N = shape_value(cellvalues, q_point, j)\n",
    "                ∇N = shape_gradient(cellvalues, q_point, j)\n",
    "                Ke[i, j] += (δN*N + Δt * m.k * (∇δN ⋅ ∇N)) * dΩ\n",
    "            end\n",
    "        end\n",
    "    end\n",
    "end;"
   ],
   "metadata": {},
   "execution_count": 3
  },
  {
   "cell_type": "markdown",
   "source": [
    "We start by a function that will create the problem definition"
   ],
   "metadata": {}
  },
  {
   "outputs": [],
   "cell_type": "code",
   "source": [
    "function create_definition()\n",
    "    # **Grid**\n",
    "    grid = generate_grid(Quadrilateral, (100, 100));\n",
    "\n",
    "    # **Cell values**\n",
    "    cellvalues = CellScalarValues(\n",
    "        QuadratureRule{2, RefCube}(2),\n",
    "        Lagrange{2, RefCube, 1}());\n",
    "\n",
    "    # **Degrees of freedom**\n",
    "    # After this, we can define the `DofHandler` and distribute the DOFs of the problem.\n",
    "    dh = DofHandler(grid); push!(dh, :u, 1); close!(dh)\n",
    "\n",
    "    # **Boundary conditions**\n",
    "    # Zero pressure on $\\partial \\Omega_1$ and linear ramp followed by constant pressure on $\\partial \\Omega_2$\n",
    "    max_temp = 100; t_rise = 100\n",
    "    ch = ConstraintHandler(dh);\n",
    "    ∂Ω₁ = union(getfaceset.((grid,), [\"left\", \"right\"])...)\n",
    "    add!(ch, Dirichlet(:u, ∂Ω₁, (x, t) -> 0));\n",
    "    ∂Ω₂ = union(getfaceset.((grid,), [\"top\", \"bottom\"])...)\n",
    "    add!(ch, Dirichlet(:u, ∂Ω₂, (x, t) -> max_temp * clamp(t / t_rise, 0, 1)))\n",
    "    close!(ch)\n",
    "\n",
    "    # Create and return the `FEDefinition`\n",
    "    return FEDefinition(;dh=dh, ch=ch, cv=cellvalues, m=FicksLaw())\n",
    "end;"
   ],
   "metadata": {},
   "execution_count": 4
  },
  {
   "cell_type": "markdown",
   "source": [
    "## Postprocessing\n",
    "After defining all the physics and problem setup, we must decide what data to save.\n",
    "In this example, we use the vtk-file exports as in the original example. To this end,\n",
    "we define the custom postprocessing struct"
   ],
   "metadata": {}
  },
  {
   "outputs": [],
   "cell_type": "code",
   "source": [
    "struct PostProcessing{PVD}\n",
    "    pvd::PVD\n",
    "end\n",
    "PostProcessing() = PostProcessing(paraview_collection(\"transient-heat.pvd\"));"
   ],
   "metadata": {},
   "execution_count": 5
  },
  {
   "cell_type": "markdown",
   "source": [
    "And the postprocessing function that is called after each time step"
   ],
   "metadata": {}
  },
  {
   "outputs": [],
   "cell_type": "code",
   "source": [
    "function FESolvers.postprocess!(post::PostProcessing, p, step, solver)\n",
    "    @info \"postprocessing step $step\"\n",
    "    dh = FP.getdh(p)\n",
    "    vtk_grid(\"transient-heat-$step\", dh) do vtk\n",
    "        vtk_point_data(vtk, dh, FP.getunknowns(p))\n",
    "        vtk_save(vtk)\n",
    "        post.pvd[step] = vtk\n",
    "    end\n",
    "end;"
   ],
   "metadata": {},
   "execution_count": 6
  },
  {
   "cell_type": "markdown",
   "source": [
    "At the end of the simulation, we want to finish all IO operations.\n",
    "We can then define the function `close_problem` which will be called\n",
    "even in the case that an error is thrown during the simulation"
   ],
   "metadata": {}
  },
  {
   "outputs": [],
   "cell_type": "code",
   "source": [
    "function FESolvers.close_problem(post::PostProcessing, p)\n",
    "    vtk_save(post.pvd)\n",
    "end;"
   ],
   "metadata": {},
   "execution_count": 7
  },
  {
   "cell_type": "markdown",
   "source": [
    "And now we create the problem type, and define the QuasiStaticSolver with\n",
    "the LinearProblemSolver as well as fixed time steps"
   ],
   "metadata": {}
  },
  {
   "outputs": [],
   "cell_type": "code",
   "source": [
    "def = create_definition()\n",
    "post = PostProcessing()\n",
    "problem = FerriteProblem(def, post)\n",
    "solver = QuasiStaticSolver(;nlsolver=LinearProblemSolver(), timestepper=FixedTimeStepper(collect(0.0:1.0:200)));"
   ],
   "metadata": {},
   "execution_count": 8
  },
  {
   "cell_type": "markdown",
   "source": [
    "Finally, we can solve the problem"
   ],
   "metadata": {}
  },
  {
   "outputs": [
    {
     "name": "stdout",
     "output_type": "stream",
     "text": [
      "[ Info: postprocessing step 2\n",
      "[ Info: postprocessing step 3\n",
      "[ Info: postprocessing step 4\n",
      "[ Info: postprocessing step 5\n",
      "[ Info: postprocessing step 6\n",
      "[ Info: postprocessing step 7\n",
      "[ Info: postprocessing step 8\n",
      "[ Info: postprocessing step 9\n",
      "[ Info: postprocessing step 10\n",
      "[ Info: postprocessing step 11\n",
      "[ Info: postprocessing step 12\n",
      "[ Info: postprocessing step 13\n",
      "[ Info: postprocessing step 14\n",
      "[ Info: postprocessing step 15\n",
      "[ Info: postprocessing step 16\n",
      "[ Info: postprocessing step 17\n",
      "[ Info: postprocessing step 18\n",
      "[ Info: postprocessing step 19\n",
      "[ Info: postprocessing step 20\n",
      "[ Info: postprocessing step 21\n",
      "[ Info: postprocessing step 22\n",
      "[ Info: postprocessing step 23\n",
      "[ Info: postprocessing step 24\n",
      "[ Info: postprocessing step 25\n",
      "[ Info: postprocessing step 26\n",
      "[ Info: postprocessing step 27\n",
      "[ Info: postprocessing step 28\n",
      "[ Info: postprocessing step 29\n",
      "[ Info: postprocessing step 30\n",
      "[ Info: postprocessing step 31\n",
      "[ Info: postprocessing step 32\n",
      "[ Info: postprocessing step 33\n",
      "[ Info: postprocessing step 34\n",
      "[ Info: postprocessing step 35\n",
      "[ Info: postprocessing step 36\n",
      "[ Info: postprocessing step 37\n",
      "[ Info: postprocessing step 38\n",
      "[ Info: postprocessing step 39\n",
      "[ Info: postprocessing step 40\n",
      "[ Info: postprocessing step 41\n",
      "[ Info: postprocessing step 42\n",
      "[ Info: postprocessing step 43\n",
      "[ Info: postprocessing step 44\n",
      "[ Info: postprocessing step 45\n",
      "[ Info: postprocessing step 46\n",
      "[ Info: postprocessing step 47\n",
      "[ Info: postprocessing step 48\n",
      "[ Info: postprocessing step 49\n",
      "[ Info: postprocessing step 50\n",
      "[ Info: postprocessing step 51\n",
      "[ Info: postprocessing step 52\n",
      "[ Info: postprocessing step 53\n",
      "[ Info: postprocessing step 54\n",
      "[ Info: postprocessing step 55\n",
      "[ Info: postprocessing step 56\n",
      "[ Info: postprocessing step 57\n",
      "[ Info: postprocessing step 58\n",
      "[ Info: postprocessing step 59\n",
      "[ Info: postprocessing step 60\n",
      "[ Info: postprocessing step 61\n",
      "[ Info: postprocessing step 62\n",
      "[ Info: postprocessing step 63\n",
      "[ Info: postprocessing step 64\n",
      "[ Info: postprocessing step 65\n",
      "[ Info: postprocessing step 66\n",
      "[ Info: postprocessing step 67\n",
      "[ Info: postprocessing step 68\n",
      "[ Info: postprocessing step 69\n",
      "[ Info: postprocessing step 70\n",
      "[ Info: postprocessing step 71\n",
      "[ Info: postprocessing step 72\n",
      "[ Info: postprocessing step 73\n",
      "[ Info: postprocessing step 74\n",
      "[ Info: postprocessing step 75\n",
      "[ Info: postprocessing step 76\n",
      "[ Info: postprocessing step 77\n",
      "[ Info: postprocessing step 78\n",
      "[ Info: postprocessing step 79\n",
      "[ Info: postprocessing step 80\n",
      "[ Info: postprocessing step 81\n",
      "[ Info: postprocessing step 82\n",
      "[ Info: postprocessing step 83\n",
      "[ Info: postprocessing step 84\n",
      "[ Info: postprocessing step 85\n",
      "[ Info: postprocessing step 86\n",
      "[ Info: postprocessing step 87\n",
      "[ Info: postprocessing step 88\n",
      "[ Info: postprocessing step 89\n",
      "[ Info: postprocessing step 90\n",
      "[ Info: postprocessing step 91\n",
      "[ Info: postprocessing step 92\n",
      "[ Info: postprocessing step 93\n",
      "[ Info: postprocessing step 94\n",
      "[ Info: postprocessing step 95\n",
      "[ Info: postprocessing step 96\n",
      "[ Info: postprocessing step 97\n",
      "[ Info: postprocessing step 98\n",
      "[ Info: postprocessing step 99\n",
      "[ Info: postprocessing step 100\n",
      "[ Info: postprocessing step 101\n",
      "[ Info: postprocessing step 102\n",
      "[ Info: postprocessing step 103\n",
      "[ Info: postprocessing step 104\n",
      "[ Info: postprocessing step 105\n",
      "[ Info: postprocessing step 106\n",
      "[ Info: postprocessing step 107\n",
      "[ Info: postprocessing step 108\n",
      "[ Info: postprocessing step 109\n",
      "[ Info: postprocessing step 110\n",
      "[ Info: postprocessing step 111\n",
      "[ Info: postprocessing step 112\n",
      "[ Info: postprocessing step 113\n",
      "[ Info: postprocessing step 114\n",
      "[ Info: postprocessing step 115\n",
      "[ Info: postprocessing step 116\n",
      "[ Info: postprocessing step 117\n",
      "[ Info: postprocessing step 118\n",
      "[ Info: postprocessing step 119\n",
      "[ Info: postprocessing step 120\n",
      "[ Info: postprocessing step 121\n",
      "[ Info: postprocessing step 122\n",
      "[ Info: postprocessing step 123\n",
      "[ Info: postprocessing step 124\n",
      "[ Info: postprocessing step 125\n",
      "[ Info: postprocessing step 126\n",
      "[ Info: postprocessing step 127\n",
      "[ Info: postprocessing step 128\n",
      "[ Info: postprocessing step 129\n",
      "[ Info: postprocessing step 130\n",
      "[ Info: postprocessing step 131\n",
      "[ Info: postprocessing step 132\n",
      "[ Info: postprocessing step 133\n",
      "[ Info: postprocessing step 134\n",
      "[ Info: postprocessing step 135\n",
      "[ Info: postprocessing step 136\n",
      "[ Info: postprocessing step 137\n",
      "[ Info: postprocessing step 138\n",
      "[ Info: postprocessing step 139\n",
      "[ Info: postprocessing step 140\n",
      "[ Info: postprocessing step 141\n",
      "[ Info: postprocessing step 142\n",
      "[ Info: postprocessing step 143\n",
      "[ Info: postprocessing step 144\n",
      "[ Info: postprocessing step 145\n",
      "[ Info: postprocessing step 146\n",
      "[ Info: postprocessing step 147\n",
      "[ Info: postprocessing step 148\n",
      "[ Info: postprocessing step 149\n",
      "[ Info: postprocessing step 150\n",
      "[ Info: postprocessing step 151\n",
      "[ Info: postprocessing step 152\n",
      "[ Info: postprocessing step 153\n",
      "[ Info: postprocessing step 154\n",
      "[ Info: postprocessing step 155\n",
      "[ Info: postprocessing step 156\n",
      "[ Info: postprocessing step 157\n",
      "[ Info: postprocessing step 158\n",
      "[ Info: postprocessing step 159\n",
      "[ Info: postprocessing step 160\n",
      "[ Info: postprocessing step 161\n",
      "[ Info: postprocessing step 162\n",
      "[ Info: postprocessing step 163\n",
      "[ Info: postprocessing step 164\n",
      "[ Info: postprocessing step 165\n",
      "[ Info: postprocessing step 166\n",
      "[ Info: postprocessing step 167\n",
      "[ Info: postprocessing step 168\n",
      "[ Info: postprocessing step 169\n",
      "[ Info: postprocessing step 170\n",
      "[ Info: postprocessing step 171\n",
      "[ Info: postprocessing step 172\n",
      "[ Info: postprocessing step 173\n",
      "[ Info: postprocessing step 174\n",
      "[ Info: postprocessing step 175\n",
      "[ Info: postprocessing step 176\n",
      "[ Info: postprocessing step 177\n",
      "[ Info: postprocessing step 178\n",
      "[ Info: postprocessing step 179\n",
      "[ Info: postprocessing step 180\n",
      "[ Info: postprocessing step 181\n",
      "[ Info: postprocessing step 182\n",
      "[ Info: postprocessing step 183\n",
      "[ Info: postprocessing step 184\n",
      "[ Info: postprocessing step 185\n",
      "[ Info: postprocessing step 186\n",
      "[ Info: postprocessing step 187\n",
      "[ Info: postprocessing step 188\n",
      "[ Info: postprocessing step 189\n",
      "[ Info: postprocessing step 190\n",
      "[ Info: postprocessing step 191\n",
      "[ Info: postprocessing step 192\n",
      "[ Info: postprocessing step 193\n",
      "[ Info: postprocessing step 194\n",
      "[ Info: postprocessing step 195\n",
      "[ Info: postprocessing step 196\n",
      "[ Info: postprocessing step 197\n",
      "[ Info: postprocessing step 198\n",
      "[ Info: postprocessing step 199\n",
      "[ Info: postprocessing step 200\n",
      "[ Info: postprocessing step 201\n"
     ]
    }
   ],
   "cell_type": "code",
   "source": [
    "solve_problem!(solver, problem);"
   ],
   "metadata": {},
   "execution_count": 9
  },
  {
   "cell_type": "markdown",
   "source": [
    "---\n",
    "\n",
    "*This notebook was generated using [Literate.jl](https://github.com/fredrikekre/Literate.jl).*"
   ],
   "metadata": {}
  }
 ],
 "nbformat_minor": 3,
 "metadata": {
  "language_info": {
   "file_extension": ".jl",
   "mimetype": "application/julia",
   "name": "julia",
   "version": "1.8.3"
  },
  "kernelspec": {
   "name": "julia-1.8",
   "display_name": "Julia 1.8.3",
   "language": "julia"
  }
 },
 "nbformat": 4
}
