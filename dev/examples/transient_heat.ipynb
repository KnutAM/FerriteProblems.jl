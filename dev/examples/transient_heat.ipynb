{
 "cells": [
  {
   "cell_type": "markdown",
   "source": [
    "# Linear Time Dependent Problem\n",
    "This example is the same example as\n",
    "[`FESolvers.jl`'s transient heat flow](https://knutam.github.io/FESolvers.jl/dev/examples/transient_heat/)\n",
    "which was taken from\n",
    "[`Ferrite.jl`'s transient heat flow](https://ferrite-fem.github.io/Ferrite.jl/stable/examples/transient_heat_equation/).\n",
    "Please see the theoretical derivations in those examples, with the specific formulation used here in the former.\n",
    "\n",
    "## Commented Program\n",
    "\n",
    "Now we solve the problem by using FerriteProblems.\n",
    "\n",
    "First we load required packages"
   ],
   "metadata": {}
  },
  {
   "outputs": [],
   "cell_type": "code",
   "source": [
    "using Ferrite, FerriteProblems, FerriteAssembly, FESolvers\n",
    "import FerriteProblems as FP"
   ],
   "metadata": {},
   "execution_count": 1
  },
  {
   "cell_type": "markdown",
   "source": [
    "## Physics\n",
    "First, we need to define the material behavior."
   ],
   "metadata": {}
  },
  {
   "outputs": [],
   "cell_type": "code",
   "source": [
    "Base.@kwdef struct FicksLaw{T}\n",
    "    k::T=1.0e-3    # Thermal conductivity\n",
    "    f::T=5.0e-1    # Constant heat source\n",
    "end"
   ],
   "metadata": {},
   "execution_count": 2
  },
  {
   "cell_type": "markdown",
   "source": [
    "where we could have defined the heat source using the bodyload type\n",
    "available via the cellbuffer, but it is not necessary for a constant\n",
    "heat source."
   ],
   "metadata": {}
  },
  {
   "cell_type": "markdown",
   "source": [
    "We then define element routine following `FerriteAssembly`"
   ],
   "metadata": {}
  },
  {
   "outputs": [],
   "cell_type": "code",
   "source": [
    "function FerriteAssembly.element_routine!(\n",
    "    Ke, re, state, ue, m::FicksLaw, cellvalues, dh_fh, Δt, buffer\n",
    "    )\n",
    "    ue_old = buffer.ae_old  # Extract old values from the CellBuffer (TODO: Perhaps good to have get-functions for this)\n",
    "    n_basefuncs = getnbasefunctions(cellvalues)\n",
    "    for q_point in 1:getnquadpoints(cellvalues)\n",
    "        dΩ = getdetJdV(cellvalues, q_point)\n",
    "        u = function_value(cellvalues, q_point, ue)\n",
    "        uold = function_value(cellvalues, q_point, ue_old)\n",
    "        ∇u = function_gradient(cellvalues, q_point, ue)\n",
    "        for i in 1:n_basefuncs\n",
    "            δN = shape_value(cellvalues, q_point, i)\n",
    "            ∇δN = shape_gradient(cellvalues, q_point, i)\n",
    "            re[i] += (δN * (u - uold - Δt * m.f) + Δt * m.k * ∇δN ⋅ ∇u) * dΩ\n",
    "            for j in 1:n_basefuncs\n",
    "                N = shape_value(cellvalues, q_point, j)\n",
    "                ∇N = shape_gradient(cellvalues, q_point, j)\n",
    "                Ke[i, j] += (δN*N + Δt * m.k * (∇δN ⋅ ∇N)) * dΩ\n",
    "            end\n",
    "        end\n",
    "    end\n",
    "end;"
   ],
   "metadata": {},
   "execution_count": 3
  },
  {
   "cell_type": "markdown",
   "source": [
    "We start by a function that will create the problem definition"
   ],
   "metadata": {}
  },
  {
   "outputs": [],
   "cell_type": "code",
   "source": [
    "function create_definition()\n",
    "    # **Grid**\n",
    "    grid = generate_grid(Quadrilateral, (100, 100));\n",
    "\n",
    "    # **Cell values**\n",
    "    cellvalues = CellScalarValues(\n",
    "        QuadratureRule{2, RefCube}(2),\n",
    "        Lagrange{2, RefCube, 1}());\n",
    "\n",
    "    # **Degrees of freedom**\n",
    "    # After this, we can define the `DofHandler` and distribute the DOFs of the problem.\n",
    "    dh = DofHandler(grid); push!(dh, :u, 1); close!(dh)\n",
    "\n",
    "    # **Boundary conditions**\n",
    "    # Zero pressure on $\\partial \\Omega_1$ and linear ramp followed by constant pressure on $\\partial \\Omega_2$\n",
    "    max_temp = 100; t_rise = 100\n",
    "    ch = ConstraintHandler(dh);\n",
    "    ∂Ω₁ = union(getfaceset.((grid,), [\"left\", \"right\"])...)\n",
    "    add!(ch, Dirichlet(:u, ∂Ω₁, (x, t) -> 0));\n",
    "    ∂Ω₂ = union(getfaceset.((grid,), [\"top\", \"bottom\"])...)\n",
    "    add!(ch, Dirichlet(:u, ∂Ω₂, (x, t) -> max_temp * clamp(t / t_rise, 0, 1)))\n",
    "    close!(ch)\n",
    "\n",
    "    # Create and return the `FEDefinition`\n",
    "    return FEDefinition(;dh=dh, ch=ch, cv=cellvalues, m=FicksLaw())\n",
    "end;"
   ],
   "metadata": {},
   "execution_count": 4
  },
  {
   "cell_type": "markdown",
   "source": [
    "## Postprocessing\n",
    "After defining all the physics and problem setup, we must decide what data to save.\n",
    "In this example, we use the vtk-file exports as in the original example. To this end,\n",
    "we define the custom postprocessing struct"
   ],
   "metadata": {}
  },
  {
   "outputs": [],
   "cell_type": "code",
   "source": [
    "struct PostProcessing{PVD}\n",
    "    pvd::PVD\n",
    "end\n",
    "PostProcessing() = PostProcessing(paraview_collection(\"transient-heat.pvd\"));"
   ],
   "metadata": {},
   "execution_count": 5
  },
  {
   "cell_type": "markdown",
   "source": [
    "And the postprocessing function that is called after each time step"
   ],
   "metadata": {}
  },
  {
   "outputs": [],
   "cell_type": "code",
   "source": [
    "function FESolvers.postprocess!(post::PostProcessing, p, step, solver)\n",
    "    if step < 5 || mod(step, 20) == 0\n",
    "        @info \"postprocessing step $step\"\n",
    "        dh = FP.getdh(p)\n",
    "        vtk_grid(\"transient-heat-$step\", dh) do vtk\n",
    "            vtk_point_data(vtk, dh, FP.getunknowns(p))\n",
    "            vtk_save(vtk)\n",
    "            post.pvd[step] = vtk\n",
    "        end\n",
    "    end\n",
    "end;"
   ],
   "metadata": {},
   "execution_count": 6
  },
  {
   "cell_type": "markdown",
   "source": [
    "At the end of the simulation, we want to finish all IO operations.\n",
    "We can then define the function `close_postprocessing` which will be called\n",
    "even in the case that an error is thrown during the simulation"
   ],
   "metadata": {}
  },
  {
   "outputs": [],
   "cell_type": "code",
   "source": [
    "function FP.close_postprocessing(post::PostProcessing, p)\n",
    "    vtk_save(post.pvd)\n",
    "end;"
   ],
   "metadata": {},
   "execution_count": 7
  },
  {
   "cell_type": "markdown",
   "source": [
    "And now we create the problem type, and define the QuasiStaticSolver with\n",
    "the LinearProblemSolver as well as fixed time steps"
   ],
   "metadata": {}
  },
  {
   "outputs": [],
   "cell_type": "code",
   "source": [
    "def = create_definition()\n",
    "post = PostProcessing()\n",
    "problem = FerriteProblem(def, post)\n",
    "solver = QuasiStaticSolver(;nlsolver=LinearProblemSolver(), timestepper=FixedTimeStepper(collect(0.0:1.0:200)));"
   ],
   "metadata": {},
   "execution_count": 8
  },
  {
   "cell_type": "markdown",
   "source": [
    "Finally, we can solve the problem"
   ],
   "metadata": {}
  },
  {
   "outputs": [
    {
     "name": "stdout",
     "output_type": "stream",
     "text": [
      "[ Info: postprocessing step 2\n",
      "[ Info: postprocessing step 3\n",
      "[ Info: postprocessing step 4\n",
      "[ Info: postprocessing step 20\n",
      "[ Info: postprocessing step 40\n",
      "[ Info: postprocessing step 60\n",
      "[ Info: postprocessing step 80\n",
      "[ Info: postprocessing step 100\n",
      "[ Info: postprocessing step 120\n",
      "[ Info: postprocessing step 140\n",
      "[ Info: postprocessing step 160\n",
      "[ Info: postprocessing step 180\n",
      "[ Info: postprocessing step 200\n"
     ]
    }
   ],
   "cell_type": "code",
   "source": [
    "solve_problem!(problem, solver);"
   ],
   "metadata": {},
   "execution_count": 9
  },
  {
   "cell_type": "markdown",
   "source": [
    "---\n",
    "\n",
    "*This notebook was generated using [Literate.jl](https://github.com/fredrikekre/Literate.jl).*"
   ],
   "metadata": {}
  }
 ],
 "nbformat_minor": 3,
 "metadata": {
  "language_info": {
   "file_extension": ".jl",
   "mimetype": "application/julia",
   "name": "julia",
   "version": "1.8.3"
  },
  "kernelspec": {
   "name": "julia-1.8",
   "display_name": "Julia 1.8.3",
   "language": "julia"
  }
 },
 "nbformat": 4
}
