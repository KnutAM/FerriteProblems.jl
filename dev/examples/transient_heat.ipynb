{
 "cells": [
  {
   "cell_type": "markdown",
   "source": [
    "# Linear Time Dependent Problem\n",
    "This example is the same example as\n",
    "[`FESolvers.jl`'s transient heat flow](https://knutam.github.io/FESolvers.jl/dev/examples/transient_heat/)\n",
    "which was taken from\n",
    "[`Ferrite.jl`'s transient heat flow](https://ferrite-fem.github.io/Ferrite.jl/stable/examples/transient_heat_equation/).\n",
    "Please see the theoretical derivations in those examples, with the specific formulation used here in the former.\n",
    "\n",
    "## Commented Program\n",
    "\n",
    "Now we solve the problem by using FerriteProblems.\n",
    "\n",
    "First we load required packages"
   ],
   "metadata": {}
  },
  {
   "outputs": [],
   "cell_type": "code",
   "source": [
    "using Ferrite, FerriteProblems, FerriteAssembly, FESolvers\n",
    "import FerriteProblems as FP\n",
    "import FerriteAssembly as FA\n",
    "import FerriteAssembly.ExampleElements: TransientFourier"
   ],
   "metadata": {},
   "execution_count": 1
  },
  {
   "cell_type": "markdown",
   "source": [
    "## Physics\n",
    "The transient heat element, `TransientFourier`, is available\n",
    "from `FerriteAssembly.ExampleElements`, noting that in the\n",
    "original example, the heat capacity, c=1, is implicitly assumed."
   ],
   "metadata": {}
  },
  {
   "outputs": [
    {
     "output_type": "execute_result",
     "data": {
      "text/plain": "material (generic function with 1 method)"
     },
     "metadata": {},
     "execution_count": 2
    }
   ],
   "cell_type": "code",
   "source": [
    "material() = TransientFourier(#=k=#1.0-3, #=c=#1.0)"
   ],
   "metadata": {},
   "execution_count": 2
  },
  {
   "cell_type": "markdown",
   "source": [
    "The material doesn't include the heat source:\n",
    "We later add this with `FerriteAssembly`'s\n",
    "`LoadHandler`, which works similar\n",
    "to the ConstraintHandler."
   ],
   "metadata": {}
  },
  {
   "cell_type": "markdown",
   "source": [
    "## Problem setup\n",
    "We start by a function that will create the problem definition"
   ],
   "metadata": {}
  },
  {
   "outputs": [],
   "cell_type": "code",
   "source": [
    "function create_definition()\n",
    "    grid = generate_grid(Quadrilateral, (100, 100));\n",
    "    ip = Lagrange{RefQuadrilateral,1}()\n",
    "    cellvalues = CellValues(\n",
    "        QuadratureRule{RefQuadrilateral}(2), ip);\n",
    "\n",
    "    dh = DofHandler(grid); add!(dh, :u, ip); close!(dh)\n",
    "\n",
    "    # Boundary conditions\n",
    "    # Zero pressure on ∂Ω₁ and linear ramp followed by constant pressure on ∂Ω₂\n",
    "    max_temp = 100; t_rise = 100\n",
    "    ch = ConstraintHandler(dh);\n",
    "    ∂Ω₁ = union(getfaceset.((grid,), [\"left\", \"right\"])...)\n",
    "    add!(ch, Dirichlet(:u, ∂Ω₁, (x, t) -> 0));\n",
    "    ∂Ω₂ = union(getfaceset.((grid,), [\"top\", \"bottom\"])...)\n",
    "    add!(ch, Dirichlet(:u, ∂Ω₂, (x, t) -> max_temp * clamp(t / t_rise, 0, 1)))\n",
    "    close!(ch)\n",
    "\n",
    "    # Body load: constant heat source, f=5.0e-1\n",
    "    lh = LoadHandler(dh)\n",
    "    add!(lh, BodyLoad(:u, 2, Returns(5.0e-1)))\n",
    "\n",
    "    # Create and return the `FEDefinition`\n",
    "    domainspec = DomainSpec(dh, material(), cellvalues)\n",
    "    return FEDefinition(domainspec; ch, lh)\n",
    "end;"
   ],
   "metadata": {},
   "execution_count": 3
  },
  {
   "cell_type": "markdown",
   "source": [
    "## Postprocessing\n",
    "After defining all the physics and problem setup, we must decide what data to save.\n",
    "In this example, we use the vtk-file exports as in the original example. To this end,\n",
    "we define the custom postprocessing struct"
   ],
   "metadata": {}
  },
  {
   "outputs": [],
   "cell_type": "code",
   "source": [
    "struct TH_PostProcessing{PVD}\n",
    "    pvd::PVD\n",
    "end\n",
    "TH_PostProcessing() = TH_PostProcessing(paraview_collection(\"transient-heat.pvd\"));"
   ],
   "metadata": {},
   "execution_count": 4
  },
  {
   "cell_type": "markdown",
   "source": [
    "And the postprocessing function that is called after each time step"
   ],
   "metadata": {}
  },
  {
   "outputs": [],
   "cell_type": "code",
   "source": [
    "function FESolvers.postprocess!(post::TH_PostProcessing, p, solver)\n",
    "    step = FESolvers.get_step(solver)\n",
    "    if step < 5 || mod(step, 20) == 0\n",
    "        @info \"postprocessing step $step\"\n",
    "        dh = FP.get_dofhandler(p)\n",
    "        vtk_grid(\"transient-heat-$step\", dh) do vtk\n",
    "            vtk_point_data(vtk, dh, FP.getunknowns(p))\n",
    "            vtk_save(vtk)\n",
    "            post.pvd[step] = vtk\n",
    "        end\n",
    "    end\n",
    "end;"
   ],
   "metadata": {},
   "execution_count": 5
  },
  {
   "cell_type": "markdown",
   "source": [
    "At the end of the simulation, we want to finish all IO operations.\n",
    "We can then define the function `close_postprocessing` which will be called\n",
    "even in the case that an error is thrown during the simulation"
   ],
   "metadata": {}
  },
  {
   "outputs": [],
   "cell_type": "code",
   "source": [
    "function FP.close_postprocessing(post::TH_PostProcessing, p)\n",
    "    vtk_save(post.pvd)\n",
    "end;"
   ],
   "metadata": {},
   "execution_count": 6
  },
  {
   "cell_type": "markdown",
   "source": [
    "And now we create the problem type, and define the QuasiStaticSolver with\n",
    "the LinearProblemSolver as well as fixed time steps"
   ],
   "metadata": {}
  },
  {
   "outputs": [],
   "cell_type": "code",
   "source": [
    "def = create_definition()\n",
    "post = TH_PostProcessing()\n",
    "problem = FerriteProblem(def, post)\n",
    "solver = QuasiStaticSolver(;nlsolver=LinearProblemSolver(), timestepper=FixedTimeStepper(collect(0.0:1.0:200)));"
   ],
   "metadata": {},
   "execution_count": 7
  },
  {
   "cell_type": "markdown",
   "source": [
    "Finally, we can solve the problem"
   ],
   "metadata": {}
  },
  {
   "outputs": [
    {
     "name": "stdout",
     "output_type": "stream",
     "text": [
      "[ Info: postprocessing step 1\n",
      "[ Info: postprocessing step 2\n",
      "[ Info: postprocessing step 3\n",
      "[ Info: postprocessing step 4\n",
      "[ Info: postprocessing step 20\n",
      "[ Info: postprocessing step 40\n",
      "[ Info: postprocessing step 60\n",
      "[ Info: postprocessing step 80\n",
      "[ Info: postprocessing step 100\n",
      "[ Info: postprocessing step 120\n",
      "[ Info: postprocessing step 140\n",
      "[ Info: postprocessing step 160\n",
      "[ Info: postprocessing step 180\n",
      "[ Info: postprocessing step 200\n"
     ]
    }
   ],
   "cell_type": "code",
   "source": [
    "solve_problem!(problem, solver);"
   ],
   "metadata": {},
   "execution_count": 8
  },
  {
   "cell_type": "markdown",
   "source": [
    "---\n",
    "\n",
    "*This notebook was generated using [Literate.jl](https://github.com/fredrikekre/Literate.jl).*"
   ],
   "metadata": {}
  }
 ],
 "nbformat_minor": 3,
 "metadata": {
  "language_info": {
   "file_extension": ".jl",
   "mimetype": "application/julia",
   "name": "julia",
   "version": "1.10.2"
  },
  "kernelspec": {
   "name": "julia-1.10",
   "display_name": "Julia 1.10.2",
   "language": "julia"
  }
 },
 "nbformat": 4
}
