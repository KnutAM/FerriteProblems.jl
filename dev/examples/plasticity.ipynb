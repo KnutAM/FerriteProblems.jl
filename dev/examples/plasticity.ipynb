{
 "cells": [
  {
   "cell_type": "markdown",
   "source": [
    "# Plasticity"
   ],
   "metadata": {}
  },
  {
   "cell_type": "markdown",
   "source": [
    "This example is taken from\n",
    "[Ferrite.jl's plasticity example](https://ferrite-fem.github.io/Ferrite.jl/stable/examples/plasticity/)\n",
    "and shows how `FerriteProblems` can be used to simplify the setup of this nonlinear problem with\n",
    "time dependent loading.\n",
    "\n",
    "First we need to load all required packages"
   ],
   "metadata": {}
  },
  {
   "outputs": [],
   "cell_type": "code",
   "source": [
    "using Ferrite, Tensors, SparseArrays, LinearAlgebra, Plots\n",
    "using FerriteProblems, FESolvers, FerriteAssembly, FerriteNeumann"
   ],
   "metadata": {},
   "execution_count": 1
  },
  {
   "cell_type": "markdown",
   "source": [
    "We then define the material by including the definitions used in the original\n",
    "[example](https://ferrite-fem.github.io/Ferrite.jl/stable/examples/plasticity/),\n",
    "by using the [J2Plasticity.jl file](J2Plasticity.jl)"
   ],
   "metadata": {}
  },
  {
   "outputs": [],
   "cell_type": "code",
   "source": [
    "include(\"J2Plasticity.jl\");"
   ],
   "metadata": {},
   "execution_count": 2
  },
  {
   "cell_type": "markdown",
   "source": [
    "## Problem definition\n",
    "We first create the problem's definition"
   ],
   "metadata": {}
  },
  {
   "outputs": [],
   "cell_type": "code",
   "source": [
    "traction_function(time) = time*1.e7 # N/m²\n",
    "\n",
    "function setup_problem_definition()\n",
    "    # Define material properties\n",
    "    E = 200.0e9\n",
    "    material = J2Plasticity(E, 0.3, 200.e6, E/20)\n",
    "\n",
    "    # Mesh\n",
    "    L = 10.0; w = 1.0; h = 1.0  # Dimensions\n",
    "    n = 2\n",
    "    nels = (10n, n, 2n)\n",
    "    P1 = Vec((0.0, 0.0, 0.0))\n",
    "    P2 = Vec((L, w, h))\n",
    "    grid = generate_grid(Tetrahedron, nels, P1, P2)\n",
    "\n",
    "    # Interpolation and integration => FEValues\n",
    "    interpolation = Lagrange{3, RefTetrahedron, 1}()\n",
    "    # setup quadrature rules\n",
    "    qr      = QuadratureRule{3,RefTetrahedron}(2)\n",
    "    face_qr = QuadratureRule{2,RefTetrahedron}(3)\n",
    "\n",
    "    # create geometric interpolation (use the same as for displacements)\n",
    "    interpolation_geom = Lagrange{3,RefTetrahedron,1}()\n",
    "\n",
    "    # cell and facevalues\n",
    "    cv = CellVectorValues(qr, interpolation, interpolation_geom)\n",
    "    fv = FaceVectorValues(face_qr, interpolation, interpolation_geom)\n",
    "\n",
    "    # Degrees of freedom\n",
    "    dh = DofHandler(grid)\n",
    "    push!(dh, :u, 3, interpolation) # add a displacement field with 3 components\n",
    "    close!(dh)\n",
    "\n",
    "    # Constraints (Dirichlet boundary conditions)\n",
    "    ch = ConstraintHandler(dh)\n",
    "    add!(ch, Dirichlet(:u, getfaceset(grid, \"left\"), (x,t) -> [0.0, 0.0, 0.0], [1, 2, 3]))\n",
    "    close!(ch)\n",
    "\n",
    "    # Neumann boundary conditions\n",
    "    nh = NeumannHandler(dh)\n",
    "    add!(nh, Neumann(:u, fv, getfaceset(grid, \"right\"), (x,t,n)->Vec{3}((0.0, 0.0, traction_function(t)))))\n",
    "\n",
    "    # Initial material states\n",
    "    states = [ [J2PlasticityMaterialState() for _ in 1:getnquadpoints(cv)] for _ in 1:getncells(grid)]\n",
    "\n",
    "\n",
    "    return FEDefinition(dh, ch, nh, cv, material, states)\n",
    "end;"
   ],
   "metadata": {},
   "execution_count": 3
  },
  {
   "cell_type": "markdown",
   "source": [
    "For the problem at hand, we need to define the element routine,\n",
    "following `FerriteAssembly`s interface. This function is almost equivalent to\n",
    "the `assemble_cell!` in the original example, except that\n",
    "1) We don't have to `reinit!` as `FerriteAssembly` does that before calling\n",
    "2) The traction is handled by `FerriteNeumann` and is not done for each cell"
   ],
   "metadata": {}
  },
  {
   "outputs": [],
   "cell_type": "code",
   "source": [
    "function FerriteAssembly.element_routine!(\n",
    "    Ke::AbstractMatrix, re::AbstractVector,\n",
    "    ue::AbstractVector, ae_old::AbstractVector,\n",
    "    state::AbstractVector, material::J2Plasticity, cellvalues::CellVectorValues,\n",
    "    dh_fh::Union{DofHandler,FieldHandler}, Δt, materialcache\n",
    "    )\n",
    "    n_basefuncs = getnbasefunctions(cellvalues)\n",
    "    for q_point in 1:getnquadpoints(cellvalues)\n",
    "        # For each integration point, compute stress and material stiffness\n",
    "        ϵ = function_symmetric_gradient(cellvalues, q_point, ue) # Total strain\n",
    "        σ, D, state[q_point] = compute_stress_tangent(ϵ, material, state[q_point])\n",
    "\n",
    "        dΩ = getdetJdV(cellvalues, q_point)\n",
    "        for i in 1:n_basefuncs\n",
    "            δϵ = shape_symmetric_gradient(cellvalues, q_point, i)\n",
    "            re[i] += (δϵ ⊡ σ) * dΩ # add internal force to residual\n",
    "            for j in 1:i # loop only over lower half\n",
    "                Δϵ = shape_symmetric_gradient(cellvalues, q_point, j)\n",
    "                Ke[i, j] += δϵ ⊡ D ⊡ Δϵ * dΩ\n",
    "            end\n",
    "        end\n",
    "    end\n",
    "    symmetrize_lower!(Ke)\n",
    "end;\n",
    "\n",
    "function symmetrize_lower!(K)\n",
    "    for i in 1:size(K,1)\n",
    "        for j in i+1:size(K,1)\n",
    "            K[i,j] = K[j,i]\n",
    "        end\n",
    "    end\n",
    "end;"
   ],
   "metadata": {},
   "execution_count": 4
  },
  {
   "cell_type": "markdown",
   "source": [
    "At this point, we can define\n",
    "`problem = FerriteProblem(setup_problem_definition())`, which can be solved\n",
    "with `FESolvers.jl`'s `solve_problem!`.\n",
    "But to get any results apart from the final state, we need to define\n",
    "the postprocessing after each step."
   ],
   "metadata": {}
  },
  {
   "cell_type": "markdown",
   "source": [
    "## Setup postprocessing\n",
    "In contrast to the original example,\n",
    "we do not save directly to a vtk-file, but use `FerriteProblem`'s IO features\n",
    "to save to JLD2 files. This has the advantage that further postprocessing can\n",
    "be done after the simulation, and we can then choose to export to the VTK-format\n",
    "or plot directly using e.g. `FerriteViz.jl`.\n",
    "We start by defining our custom postprocessing type."
   ],
   "metadata": {}
  },
  {
   "outputs": [],
   "cell_type": "code",
   "source": [
    "struct PlasticityPostProcess{T}\n",
    "    tmag::Vector{T}\n",
    "    umag::Vector{T}\n",
    "end\n",
    "PlasticityPostProcess() = PlasticityPostProcess(Float64[], Float64[]);"
   ],
   "metadata": {},
   "execution_count": 5
  },
  {
   "cell_type": "markdown",
   "source": [
    "With this postprocessing type, we can now define the postprocessing in FESolvers.\n",
    "Since the `FerriteProblem` type is used for all types of problems, it can be\n",
    "useful to dispatch on the contained postprocessing type to have multiple problems\n",
    "defined in the same session/package."
   ],
   "metadata": {}
  },
  {
   "outputs": [],
   "cell_type": "code",
   "source": [
    "function FESolvers.postprocess!(p::FerriteProblem{<:PlasticityPostProcess}, step, solver)\n",
    "    # First, we save some values directly in the `post` struct\n",
    "    push!(p.post.tmag, traction_function(FerriteProblems.gettime(p)))\n",
    "    push!(p.post.umag, maximum(abs, FESolvers.getunknowns(p)))\n",
    "\n",
    "    # Second, we save some results to file\n",
    "    # * We must always start by adding the next step.\n",
    "    FerriteProblems.addstep!(p.io, FerriteProblems.gettime(p))\n",
    "    # * Save the dof values (only displacments in this case)\n",
    "    FerriteProblems.savedofdata!(p.io, FESolvers.getunknowns(p))\n",
    "    # * Save the state in each integration point\n",
    "    FerriteProblems.saveipdata!(p.io, FerriteProblems.getstate(p), \"state\")\n",
    "end;"
   ],
   "metadata": {},
   "execution_count": 6
  },
  {
   "cell_type": "markdown",
   "source": [
    "## Solving the problem\n",
    "First, we define a helper function to plot the results after the solution"
   ],
   "metadata": {}
  },
  {
   "outputs": [],
   "cell_type": "code",
   "source": [
    "function plot_results(problem::FerriteProblem{<:PlasticityPostProcess}; plt=plot(), label=nothing, markershape=:auto, markersize=4)\n",
    "    umax = vcat(0.0, problem.post.umag)\n",
    "    tmag = vcat(0.0, problem.post.tmag)\n",
    "    plot!(plt, umax, tmag, linewidth=0.5, title=\"Traction-displacement\", label=label,\n",
    "        markeralpha=0.75, markershape=markershape, markersize=markersize)\n",
    "    ylabel!(plt, \"Traction [Pa]\")\n",
    "    xlabel!(plt, \"Maximum deflection [m]\")\n",
    "    return plt\n",
    "end;"
   ],
   "metadata": {},
   "execution_count": 7
  },
  {
   "cell_type": "markdown",
   "source": [
    "**Temporary:**\n",
    "Wrap `solve_problem!` to make it save any open stuff at the end,\n",
    "even in case of an exception.\n",
    "This is temporary, but would be nice to handle within FESolvers"
   ],
   "metadata": {}
  },
  {
   "outputs": [],
   "cell_type": "code",
   "source": [
    "function wrapped_solve!(solver, problem)\n",
    "    try\n",
    "        solve_problem!(solver, problem)\n",
    "    finally\n",
    "        FerriteProblems.close_problem(problem)\n",
    "    end\n",
    "end;"
   ],
   "metadata": {},
   "execution_count": 8
  },
  {
   "cell_type": "markdown",
   "source": [
    "Finally, we can solve the problem with different time stepping strategies\n",
    "and plot the results"
   ],
   "metadata": {}
  },
  {
   "outputs": [],
   "cell_type": "code",
   "source": [
    "function example_solution()\n",
    "    def = setup_problem_definition()\n",
    "    makeproblem(_def, folder) = FerriteProblem(_def, PlasticityPostProcess(), joinpath(pwd(), folder))\n",
    "\n",
    "    # Fixed uniform time steps\n",
    "    problem = makeproblem(def, \"A\")\n",
    "    solver = QuasiStaticSolver(NewtonSolver(;tolerance=1.0), FixedTimeStepper(;num_steps=25,Δt=0.04))\n",
    "    wrapped_solve!(solver, problem)\n",
    "\n",
    "    plt = plot_results(problem, label=\"uniform\", markershape=:x, markersize=5)\n",
    "\n",
    "    # Same time steps as Ferrite example, overwrite results\n",
    "    problem = makeproblem(def, \"A\")\n",
    "    solver = QuasiStaticSolver(NewtonSolver(;tolerance=1.0), FixedTimeStepper(append!([0.], collect(0.5:0.05:1.0))))\n",
    "    wrapped_solve!(solver, problem)\n",
    "    plot_results(problem, plt=plt, label=\"fixed\", markershape=:circle)\n",
    "\n",
    "    # Adaptive time stepping, save results to new folder\n",
    "    problem = makeproblem(def, \"B\")\n",
    "    ts = AdaptiveTimeStepper(0.05, 1.0; Δt_min=0.01, Δt_max=0.2)\n",
    "    solver = QuasiStaticSolver(NewtonSolver(;tolerance=1.0, maxiter=6), ts)\n",
    "    wrapped_solve!(solver, problem)\n",
    "\n",
    "    plot_results(problem, plt=plt, label=\"adaptive\", markershape=:circle)\n",
    "    plot!(;legend=:bottomright)\n",
    "    return plt, problem, solver\n",
    "end;\n",
    "\n",
    "plt, problem, solver = example_solution();"
   ],
   "metadata": {},
   "execution_count": 9
  },
  {
   "cell_type": "markdown",
   "source": [
    "Which gives the following result when running `display(plt)`\n",
    "\n",
    "![](plasticity.svg)"
   ],
   "metadata": {}
  },
  {
   "cell_type": "markdown",
   "source": [
    "---\n",
    "\n",
    "*This notebook was generated using [Literate.jl](https://github.com/fredrikekre/Literate.jl).*"
   ],
   "metadata": {}
  }
 ],
 "nbformat_minor": 3,
 "metadata": {
  "language_info": {
   "file_extension": ".jl",
   "mimetype": "application/julia",
   "name": "julia",
   "version": "1.8.2"
  },
  "kernelspec": {
   "name": "julia-1.8",
   "display_name": "Julia 1.8.2",
   "language": "julia"
  }
 },
 "nbformat": 4
}
