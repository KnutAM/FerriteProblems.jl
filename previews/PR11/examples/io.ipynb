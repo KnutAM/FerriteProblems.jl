{
 "cells": [
  {
   "cell_type": "markdown",
   "source": [
    "# IO: Saving and loading simulations\n",
    "The `FerriteProblems.jl` package includes support for saving simulation data using\n",
    "[`JLD2.jl`](https://github.com/JuliaIO/JLD2.jl). This examples shows some examples\n",
    "of how this can be done. Specifically, we use the data saved during the plasticity\n",
    "example:"
   ],
   "metadata": {}
  },
  {
   "outputs": [],
   "cell_type": "code",
   "source": [
    "using Ferrite, FerriteProblems\n",
    "import FerriteProblems as FP\n",
    "include(\"plasticity.jl\");"
   ],
   "metadata": {},
   "execution_count": 1
  },
  {
   "cell_type": "markdown",
   "source": [
    "In that example, the displacements and state variables were saved in each time step.\n",
    "In this example, we use the data saved in the folder `B` (using the `AdaptiveTimeStepper`)\n",
    "and plot a few interesting cases:\n",
    "* Maximum von Mises stress as function of time\n",
    "* Export the final displacements and stress to `vtk`"
   ],
   "metadata": {}
  },
  {
   "cell_type": "markdown",
   "source": [
    "To calculate average element stresses, we will employ the\n",
    "Integrator from FerriteAssembly."
   ],
   "metadata": {}
  },
  {
   "outputs": [],
   "cell_type": "code",
   "source": [
    "struct CellStress{T}\n",
    "    σvm::Vector{T}\n",
    "end\n",
    "CellStress(grid::Grid) = CellStress(zeros(getncells(grid)))\n",
    "von_mises(σ) = (s=dev(σ); sqrt((3/2)*s⊡s))\n",
    "\n",
    "function FerriteAssembly.integrate_cell!(cs::CellStress, state, ae, m::J2Plasticity, cv, buffer)\n",
    "    σvm = 0.0\n",
    "    V = 0.0\n",
    "    for q_point in 1:getnquadpoints(cv)\n",
    "        dΩ = getdetJdV(cv, q_point)\n",
    "        ϵ = function_symmetric_gradient(cv, q_point, ae)\n",
    "        σ = m.D ⊡ (ϵ - state[q_point].ϵp)\n",
    "        σvm += von_mises(σ)*dΩ\n",
    "        V += dΩ\n",
    "    end\n",
    "    cs.σvm[cellid(buffer)] = σvm/V\n",
    "end"
   ],
   "metadata": {},
   "execution_count": 2
  },
  {
   "cell_type": "markdown",
   "source": [
    "While it is possible to have a code that is structured like\n",
    "```julia\n",
    "io = FerriteIO(\"B/FerriteIO.jld2\")\n",
    "# do whatever\n",
    "close(io)\n",
    "```\n",
    "We do everything inside a do-block to ensure everything is closed at the end\n",
    "(even if an error is thrown)"
   ],
   "metadata": {}
  },
  {
   "outputs": [
    {
     "name": "stdout",
     "output_type": "stream",
     "text": [
      "┌ Warning: type Main.##296.VectorRamp{3,Float64} does not exist in workspace; reconstructing\n",
      "└ @ JLD2 ~/.julia/packages/JLD2/IsVcY/src/data/reconstructing_datatypes.jl:605\n",
      "┌ Warning: type Main.##296.PlasticityPostProcess{Float64} does not exist in workspace; reconstructing\n",
      "└ @ JLD2 ~/.julia/packages/JLD2/IsVcY/src/data/reconstructing_datatypes.jl:605\n"
     ]
    },
    {
     "output_type": "execute_result",
     "data": {
      "text/plain": "(Plot{Plots.GRBackend() n=1}, Plot{Plots.GRBackend() n=1})"
     },
     "metadata": {},
     "execution_count": 3
    }
   ],
   "cell_type": "code",
   "source": [
    "plts = FerriteIO(\"B/FerriteIO.jld2\") do io\n",
    "    def = FP.getdef(io)\n",
    "    buf = FP.FEBuffer(def)\n",
    "    post = FP.getpost(io);\n",
    "\n",
    "    # Then, we get the time history and the displacement data saved to the `post` struct\n",
    "    t_history = FP.gettimedata(io)\n",
    "    u_mag = post.umag\n",
    "\n",
    "    plt1 = plot()\n",
    "    plot!(plt1, t_history, u_mag*1e3)\n",
    "    title!(plt1, \"maximum displacement\")\n",
    "    xlabel!(plt1, \"time [s]\")\n",
    "    ylabel!(plt1, \"umax [mm]\")\n",
    "\n",
    "    # The maximum von Mises stress for each step is calculated next. Note that `step` refers\n",
    "    # to the count of saved steps, and not the actual simulation steps.\n",
    "    function get_max_vm_stress(cs, buffer, io, step)\n",
    "        states = FP.getipdata(io, step, \"state\") # ::Dict{Int,Vector{J2PlasticityMaterialState}}\n",
    "        FerriteAssembly.update_states!(FerriteAssembly.get_state(buffer), states)\n",
    "        work!(Integrator(cs), buffer; a=FP.getdofdata(io, step))\n",
    "        return maximum(cs.σvm)\n",
    "    end\n",
    "    dh = FerriteAssembly.get_dofhandler(def)\n",
    "    cs = CellStress(dh.grid)\n",
    "    buffer = FP.getassemblybuffer(buf)\n",
    "    σ_vm_max = Float64[]\n",
    "    for step in 1:length(t_history)\n",
    "        push!(σ_vm_max, get_max_vm_stress(cs, buffer, io, step))\n",
    "    end\n",
    "\n",
    "    # Plot the analyzed results\n",
    "    plt2=plot()\n",
    "    plot!(plt2, t_history, σ_vm_max*1e-6)\n",
    "    title!(plt2, \"Maximum von Mises stress\")\n",
    "    xlabel!(plt2, \"time [s]\")\n",
    "    ylabel!(plt2, \"stress [MPa]\")\n",
    "\n",
    "    # Finally, cs now contains the von mises stress\n",
    "    # of each cell at the last step, which we save to vtk.\n",
    "    u = FP.getdofdata(io, length(t_history))\n",
    "    vtk_grid(\"plasticity\", dh) do vtkfile\n",
    "        vtk_point_data(vtkfile, dh, u) # displacement field\n",
    "        vtk_cell_data(vtkfile, cs.σvm, \"von Mises [Pa]\")\n",
    "    end;\n",
    "    # Return the plots\n",
    "    (plt1, plt2)\n",
    "end"
   ],
   "metadata": {},
   "execution_count": 3
  },
  {
   "cell_type": "markdown",
   "source": [
    "Display the plots by running `display(plts[1])` or `display(plts[2])`"
   ],
   "metadata": {}
  },
  {
   "cell_type": "markdown",
   "source": [
    "---\n",
    "\n",
    "*This notebook was generated using [Literate.jl](https://github.com/fredrikekre/Literate.jl).*"
   ],
   "metadata": {}
  }
 ],
 "nbformat_minor": 3,
 "metadata": {
  "language_info": {
   "file_extension": ".jl",
   "mimetype": "application/julia",
   "name": "julia",
   "version": "1.9.3"
  },
  "kernelspec": {
   "name": "julia-1.9",
   "display_name": "Julia 1.9.3",
   "language": "julia"
  }
 },
 "nbformat": 4
}
