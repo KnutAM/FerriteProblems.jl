{
 "cells": [
  {
   "cell_type": "markdown",
   "source": [
    "# IO: Saving and loading simulations\n",
    "The `FerriteProblems.jl` package includes support for saving simulation data using\n",
    "[`JLD2.jl`](https://github.com/JuliaIO/JLD2.jl). This examples shows some examples\n",
    "of how this can be done. Specifically, we use the data saved during the plasticity\n",
    "example:"
   ],
   "metadata": {}
  },
  {
   "outputs": [],
   "cell_type": "code",
   "source": [
    "using Ferrite, FerriteProblems\n",
    "import FerriteProblems as FP\n",
    "include(\"plasticity.jl\");"
   ],
   "metadata": {},
   "execution_count": 1
  },
  {
   "cell_type": "markdown",
   "source": [
    "In that example, the displacements and state variables were saved in each time step.\n",
    "In this example, we use the data saved in the folder `B` (using the `AdaptiveTimeStepper`)\n",
    "and plot a few interesting cases:\n",
    "* Maximum von Mises stress as function of time\n",
    "* Export the final displacements and stress to `vtk`"
   ],
   "metadata": {}
  },
  {
   "cell_type": "markdown",
   "source": [
    "While it is possible to have a code that is structured like\n",
    "```julia\n",
    "io = FerriteIO(\"B/FerriteIO.jld2\")\n",
    "# do whatever\n",
    "close(io)\n",
    "```\n",
    "We do everything inside a do-block to ensure everything is closed at the end\n",
    "(even if an error is thrown)"
   ],
   "metadata": {}
  },
  {
   "outputs": [
    {
     "name": "stdout",
     "output_type": "stream",
     "text": [
      "┌ Warning: type Main.##296.J2PlasticityMaterialState{Float64,Tensors.SymmetricTensor{2, 3, Float64, 6}} does not exist in workspace; reconstructing\n",
      "└ @ JLD2 ~/.julia/packages/JLD2/IsVcY/src/data/reconstructing_datatypes.jl:605\n",
      "┌ Warning: type Main.##296.VectorRamp{3,Float64} does not exist in workspace; reconstructing\n",
      "└ @ JLD2 ~/.julia/packages/JLD2/IsVcY/src/data/reconstructing_datatypes.jl:605\n",
      "┌ Warning: type Main.##296.J2Plasticity{Float64,Tensors.SymmetricTensor{4, 3, Float64, 36}} does not exist in workspace; reconstructing\n",
      "└ @ JLD2 ~/.julia/packages/JLD2/IsVcY/src/data/reconstructing_datatypes.jl:605\n",
      "┌ Warning: type Main.##296.PlasticityPostProcess{Float64} does not exist in workspace; reconstructing\n",
      "└ @ JLD2 ~/.julia/packages/JLD2/IsVcY/src/data/reconstructing_datatypes.jl:605\n",
      "┌ Warning: type Main.##296.J2PlasticityMaterialState{Float64,Tensors.SymmetricTensor{2, 3, Float64, 6}} does not exist in workspace; reconstructing\n",
      "└ @ JLD2 ~/.julia/packages/JLD2/IsVcY/src/data/reconstructing_datatypes.jl:605\n"
     ]
    },
    {
     "output_type": "execute_result",
     "data": {
      "text/plain": "(Plot{Plots.GRBackend() n=1}, Plot{Plots.GRBackend() n=1})"
     },
     "metadata": {},
     "execution_count": 2
    }
   ],
   "cell_type": "code",
   "source": [
    "plts = FerriteIO(\"B/FerriteIO.jld2\") do io\n",
    "    def = FP.getdef(io)\n",
    "    post = FP.getpost(io);\n",
    "\n",
    "    # Then, we get the time history and the displacement data saved to the `post` struct\n",
    "    t_history = FP.gettimedata(io)\n",
    "    u_mag = post.umag\n",
    "\n",
    "    plt1 = plot()\n",
    "    plot!(plt1, t_history, u_mag*1e3)\n",
    "    title!(plt1, \"maximum displacement\")\n",
    "    xlabel!(plt1, \"time [s]\")\n",
    "    ylabel!(plt1, \"umax [mm]\")\n",
    "\n",
    "    # The maximum von Mises stress for each step is calculated next. Note that `step` refers\n",
    "    # to the count of saved steps, and not the actual simulation steps.\n",
    "    function get_max_vm_stress(io, step)\n",
    "        states = FP.getipdata(io, step, \"state\") # ::Dict{Int,Vector{J2PlasticityMaterialState}}\n",
    "        σ_vm = maximum(cellstates -> maximum(state -> vonMises(state.σ), cellstates), values(states))\n",
    "        return σ_vm\n",
    "    end\n",
    "\n",
    "    σ_vm = get_max_vm_stress.((io,), 1:length(t_history));\n",
    "\n",
    "    # Plot the analyzed results\n",
    "    plt2=plot()\n",
    "    plot!(plt2, t_history, σ_vm*1e-6)\n",
    "    title!(plt2, \"Maximum von Mises stress\")\n",
    "    xlabel!(plt2, \"time [s]\")\n",
    "    ylabel!(plt2, \"stress [MPa]\")\n",
    "\n",
    "    # Finally, we extract the degrees of freedom and the stresses in each element\n",
    "    # at the last step to save to vtk.\n",
    "    step = length(t_history)\n",
    "    u = FP.getdofdata(io, step)\n",
    "    states = FP.getipdata(io, step, \"state\")\n",
    "    dh = FP.get_dofhandler(def)\n",
    "    mises_values = zeros(getncells(dh.grid))\n",
    "    for (el, cell_states) in pairs(states) # states::Dict{Int}\n",
    "        for state in cell_states\n",
    "            mises_values[el] += vonMises(state.σ)\n",
    "        end\n",
    "        mises_values[el] /= length(cell_states) # average von Mises stress\n",
    "    end\n",
    "    vtk_grid(\"plasticity\", dh) do vtkfile\n",
    "        vtk_point_data(vtkfile, dh, u) # displacement field\n",
    "        vtk_cell_data(vtkfile, mises_values, \"von Mises [Pa]\")\n",
    "    end;\n",
    "    # Return the plots\n",
    "    (plt1, plt2)\n",
    "end"
   ],
   "metadata": {},
   "execution_count": 2
  },
  {
   "cell_type": "markdown",
   "source": [
    "Display the plots by running `display(plts[1])` or `display(plts[2])`"
   ],
   "metadata": {}
  },
  {
   "cell_type": "markdown",
   "source": [
    "---\n",
    "\n",
    "*This notebook was generated using [Literate.jl](https://github.com/fredrikekre/Literate.jl).*"
   ],
   "metadata": {}
  }
 ],
 "nbformat_minor": 3,
 "metadata": {
  "language_info": {
   "file_extension": ".jl",
   "mimetype": "application/julia",
   "name": "julia",
   "version": "1.9.3"
  },
  "kernelspec": {
   "name": "julia-1.9",
   "display_name": "Julia 1.9.3",
   "language": "julia"
  }
 },
 "nbformat": 4
}
