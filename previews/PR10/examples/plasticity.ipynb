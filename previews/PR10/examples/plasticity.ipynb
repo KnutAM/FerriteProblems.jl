{
 "cells": [
  {
   "cell_type": "markdown",
   "source": [
    "# Plasticity"
   ],
   "metadata": {}
  },
  {
   "cell_type": "markdown",
   "source": [
    "This example is taken from\n",
    "[Ferrite.jl's plasticity example](https://ferrite-fem.github.io/Ferrite.jl/stable/examples/plasticity/)\n",
    "and shows how `FerriteProblems` can be used to simplify the setup of this nonlinear problem with\n",
    "time dependent loading.\n",
    "\n",
    "First we need to load all required packages"
   ],
   "metadata": {}
  },
  {
   "outputs": [],
   "cell_type": "code",
   "source": [
    "using Ferrite, Tensors, SparseArrays, LinearAlgebra\n",
    "using FerriteProblems, FESolvers, FerriteAssembly\n",
    "import FerriteProblems as FP\n",
    "using Plots; gr();"
   ],
   "metadata": {},
   "execution_count": 1
  },
  {
   "cell_type": "markdown",
   "source": [
    "We then define the material by including the definitions used in the original\n",
    "[example](https://ferrite-fem.github.io/Ferrite.jl/stable/examples/plasticity/),\n",
    "by using the [J2Plasticity.jl file](J2Plasticity.jl). We have modified the\n",
    "names and functions to comply with\n",
    "[`MaterialModelsBase.jl`](https://github.com/KnutAM/MaterialModelsBase.jl)"
   ],
   "metadata": {}
  },
  {
   "outputs": [],
   "cell_type": "code",
   "source": [
    "include(\"J2Plasticity.jl\");"
   ],
   "metadata": {},
   "execution_count": 2
  },
  {
   "cell_type": "markdown",
   "source": [
    "This file defines the\n",
    "* `J2Plasticity<:AbstractMaterial` material type with the constructor `J2Plasticity(E,ν,σy0,H)`\n",
    "* State variable struct `J2PlasticityMaterialState<:AbstractMaterialState`\n",
    "* The MaterialModelsBase function `initial_material_state` and `material_response`\n",
    "Support for a single material according to the `MaterialModelsBase` interface is supported directly\n",
    "by `FerriteAssembly.jl`"
   ],
   "metadata": {}
  },
  {
   "cell_type": "markdown",
   "source": [
    "## Problem definition\n",
    "We first create the problem's definition.\n",
    "To be able to save the results using JLD2, we cannot use anonymous functions,\n",
    "so a struct for the ramping is created instead:"
   ],
   "metadata": {}
  },
  {
   "outputs": [],
   "cell_type": "code",
   "source": [
    "struct VectorRamp{dim,T}<:Function\n",
    "    ramp::Vec{dim,T}\n",
    "end\n",
    "(vr::VectorRamp)(x, t, n) = t*vr.ramp\n",
    "const traction_function = VectorRamp(Vec(0.0, 0.0, 1.e7))\n",
    "function setup_problem_definition()\n",
    "    # Define material properties (\"J2Plasticity.jl\" file)\n",
    "    material = J2Plasticity(200.0e9, 0.3, 200.e6, 10.0e9)\n",
    "\n",
    "    # CellValues\n",
    "    cv = CellVectorValues(QuadratureRule{3,RefTetrahedron}(2), Lagrange{3, RefTetrahedron, 1}())\n",
    "\n",
    "    # Grid and degrees of freedom (`Ferrite.jl`)\n",
    "    grid = generate_grid(Tetrahedron, (20,2,4), zero(Vec{3}), Vec((10.,1.,1.)))\n",
    "    dh = DofHandler(grid); push!(dh, :u, 3); close!(dh)\n",
    "\n",
    "    # Constraints (Dirichlet boundary conditions, `Ferrite.jl`)\n",
    "    ch = ConstraintHandler(dh)\n",
    "    add!(ch, Dirichlet(:u, getfaceset(grid, \"left\"), Returns(zero(Vec{3})), [1, 2, 3]))\n",
    "    close!(ch)\n",
    "\n",
    "    # Neumann boundary conditions\n",
    "    lh = LoadHandler(dh)\n",
    "    quad_order = 3\n",
    "    add!(lh, Neumann(:u, quad_order, getfaceset(grid, \"right\"), traction_function))\n",
    "\n",
    "    domainspec = DomainSpec(dh, material, cv)\n",
    "    return FEDefinition(domainspec; ch, lh)\n",
    "end;"
   ],
   "metadata": {},
   "execution_count": 3
  },
  {
   "cell_type": "markdown",
   "source": [
    "For the problem at hand, `FerriteAssembly.element_routine!` is defined in `FerriteAssembly.jl`."
   ],
   "metadata": {}
  },
  {
   "cell_type": "markdown",
   "source": [
    "## Setup postprocessing\n",
    "In contrast to the original example,\n",
    "we do not save directly to a vtk-file, but use `FerriteProblem`'s IO features\n",
    "to save to JLD2 files. This has the advantage that further postprocessing can\n",
    "be done after the simulation, and we can then choose to export to the VTK-format\n",
    "or plot directly using e.g. `FerriteViz.jl`.\n",
    "We start by defining our custom postprocessing type."
   ],
   "metadata": {}
  },
  {
   "outputs": [],
   "cell_type": "code",
   "source": [
    "struct PlasticityPostProcess{T}\n",
    "    tmag::Vector{T}\n",
    "    umag::Vector{T}\n",
    "end\n",
    "PlasticityPostProcess() = PlasticityPostProcess(Float64[], Float64[]);"
   ],
   "metadata": {},
   "execution_count": 4
  },
  {
   "cell_type": "markdown",
   "source": [
    "With this postprocessing type, we can now define the postprocessing in FESolvers.\n",
    "Note that, internally, FerriteProblems imports the FESolvers functions\n",
    "`getunknowns`, `getjacobian`, and `getresidual`, such that you can access these\n",
    "via `FerriteProblems.` (or `FP.` if using the `import FerriteProblems as FP` above).\n",
    "For convenience, `FerriteProblems` will call `FESolvers.postprocess!` with the\n",
    "`post` as the first argument making it easy to dispatch on:"
   ],
   "metadata": {}
  },
  {
   "outputs": [],
   "cell_type": "code",
   "source": [
    "function FESolvers.postprocess!(post::PlasticityPostProcess, p, step, solver)\n",
    "    # p::FerriteProblem\n",
    "    # First, we save some values directly in the `post` struct\n",
    "    push!(post.tmag, traction_function(zero(Vec{3}), FP.get_time(p), zero(Vec{3}))[3])\n",
    "    push!(post.umag, maximum(abs, FP.getunknowns(p)))\n",
    "\n",
    "    # Second, we save some results to file\n",
    "    # * We must always start by adding the next step.\n",
    "    FP.addstep!(p.io, p)\n",
    "    # * Save the dof values (only displacments in this case)\n",
    "    FP.savedofdata!(p.io, FP.getunknowns(p))\n",
    "    # * Save the state in each integration point\n",
    "    FP.saveipdata!(p.io, FP.get_state(p), \"state\")\n",
    "end;"
   ],
   "metadata": {},
   "execution_count": 5
  },
  {
   "cell_type": "markdown",
   "source": [
    "We also define a helper function to plot the results after completion"
   ],
   "metadata": {}
  },
  {
   "outputs": [],
   "cell_type": "code",
   "source": [
    "function plot_results(post::PlasticityPostProcess;\n",
    "    plt=plot(), label=nothing, markershape=:auto, markersize=4\n",
    "    )\n",
    "    plot!(plt, post.umag, post.tmag, linewidth=0.5, title=\"Traction-displacement\", label=label,\n",
    "        markeralpha=0.75, markershape=markershape, markersize=markersize)\n",
    "    ylabel!(plt, \"Traction [Pa]\")\n",
    "    xlabel!(plt, \"Maximum deflection [m]\")\n",
    "    return plt\n",
    "end;"
   ],
   "metadata": {},
   "execution_count": 6
  },
  {
   "cell_type": "markdown",
   "source": [
    "## Solving the problem\n",
    "Finally, we can solve the problem with different time stepping strategies\n",
    "and plot the results. Here, we use `FerriteProblems`' `safesolve` that\n",
    "(1) creates our full `problem::FerriteProblem`\n",
    "and (2) ensures that files are closed even when the problem doesn't converge."
   ],
   "metadata": {}
  },
  {
   "outputs": [],
   "cell_type": "code",
   "source": [
    "global umax_solution = [0.0] # To save result for test #hide\n",
    "\n",
    "function example_solution()\n",
    "    def = setup_problem_definition()\n",
    "\n",
    "    # Fixed uniform time steps\n",
    "    solver = QuasiStaticSolver(NewtonSolver(;tolerance=1.0), FixedTimeStepper(;num_steps=25,Δt=0.04))\n",
    "    problem = FerriteProblem(def, PlasticityPostProcess(), joinpath(pwd(), \"A\"))\n",
    "    solve_problem!(problem, solver)\n",
    "    plt = plot_results(problem.post, label=\"uniform\", markershape=:x, markersize=5)\n",
    "\n",
    "    # Same time steps as Ferrite example, overwrite results by specifying the same folder\n",
    "    solver = QuasiStaticSolver(NewtonSolver(;tolerance=1.0), FixedTimeStepper(append!([0.], collect(0.5:0.05:1.0))))\n",
    "    problem = FerriteProblem(def, PlasticityPostProcess(), joinpath(pwd(), \"A\"))\n",
    "    solve_problem!(problem, solver)\n",
    "    plot_results(problem.post, plt=plt, label=\"fixed\", markershape=:circle)\n",
    "    umax_solution[1] = problem.post.umag[end] # Save value for comparison  #hide\n",
    "\n",
    "    # Adaptive time stepping, save results to new folder\n",
    "    ts = AdaptiveTimeStepper(0.05, 1.0; Δt_min=0.01, Δt_max=0.2)\n",
    "    solver = QuasiStaticSolver(NewtonSolver(;tolerance=1.0, maxiter=6), ts)\n",
    "    problem = FerriteProblem(def, PlasticityPostProcess(), joinpath(pwd(), \"B\"))\n",
    "    solve_problem!(problem, solver)\n",
    "    plot_results(problem.post, plt=plt, label=\"adaptive\", markershape=:circle)\n",
    "\n",
    "    plot!(;legend=:bottomright)\n",
    "    return plt, problem, solver\n",
    "end;\n",
    "\n",
    "plt, problem, solver = example_solution();\n",
    "\n",
    "using Test # Compare to Ferrite.jl's example #hide\n",
    "@test isapprox(umax_solution[1], 0.254452; rtol=1.e-4);  #hide"
   ],
   "metadata": {},
   "execution_count": 7
  },
  {
   "cell_type": "markdown",
   "source": [
    "Which gives the following result when running `display(plt)`\n",
    "\n",
    "![](plasticity.svg)"
   ],
   "metadata": {}
  },
  {
   "cell_type": "markdown",
   "source": [
    "---\n",
    "\n",
    "*This notebook was generated using [Literate.jl](https://github.com/fredrikekre/Literate.jl).*"
   ],
   "metadata": {}
  }
 ],
 "nbformat_minor": 3,
 "metadata": {
  "language_info": {
   "file_extension": ".jl",
   "mimetype": "application/julia",
   "name": "julia",
   "version": "1.9.3"
  },
  "kernelspec": {
   "name": "julia-1.9",
   "display_name": "Julia 1.9.3",
   "language": "julia"
  }
 },
 "nbformat": 4
}
